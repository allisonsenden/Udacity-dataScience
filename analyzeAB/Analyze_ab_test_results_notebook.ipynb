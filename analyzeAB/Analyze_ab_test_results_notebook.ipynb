{
 "cells": [
  {
   "cell_type": "markdown",
   "metadata": {},
   "source": [
    "## Analyze A/B Test Results\n",
    "\n",
    "You may either submit your notebook through the workspace here, or you may work from your local machine and submit through the next page.  Either way assure that your code passes the project [RUBRIC](https://review.udacity.com/#!/projects/37e27304-ad47-4eb0-a1ab-8c12f60e43d0/rubric).  **Please save regularly\n",
    "\n",
    "This project will assure you have mastered the subjects covered in the statistics lessons.  The hope is to have this project be as comprehensive of these topics as possible.  Good luck!\n",
    "\n",
    "## Table of Contents\n",
    "- [Introduction](#intro)\n",
    "- [Part I - Probability](#probability)\n",
    "- [Part II - A/B Test](#ab_test)\n",
    "- [Part III - Regression](#regression)\n",
    "\n",
    "\n",
    "<a id='intro'></a>\n",
    "### Introduction\n",
    "\n",
    "A/B tests are very commonly performed by data analysts and data scientists.  It is important that you get some practice working with the difficulties of these \n",
    "\n",
    "For this project, you will be working to understand the results of an A/B test run by an e-commerce website.  Your goal is to work through this notebook to help the company understand if they should implement the new page, keep the old page, or perhaps run the experiment longer to make their decision.\n",
    "\n",
    "**As you work through this notebook, follow along in the classroom and answer the corresponding quiz questions associated with each question.** The labels for each classroom concept are provided for each question.  This will assure you are on the right track as you work through the project, and you can feel more confident in your final submission meeting the criteria.  As a final check, assure you meet all the criteria on the [RUBRIC](https://review.udacity.com/#!/projects/37e27304-ad47-4eb0-a1ab-8c12f60e43d0/rubric).\n",
    "\n",
    "<a id='probability'></a>\n",
    "#### Part I - Probability\n",
    "\n",
    "To get started, let's import our libraries."
   ]
  },
  {
   "cell_type": "code",
   "execution_count": 1,
   "metadata": {
    "collapsed": true
   },
   "outputs": [],
   "source": [
    "import pandas as pd\n",
    "import numpy as np\n",
    "import random\n",
    "import matplotlib.pyplot as plt\n",
    "%matplotlib inline\n",
    "#We are setting the seed to assure you get the same answers on quizzes as we set up\n",
    "random.seed(42)"
   ]
  },
  {
   "cell_type": "markdown",
   "metadata": {},
   "source": [
    "`1.` Now, read in the `ab_data.csv` data. Store it in `df`.  **Use your dataframe to answer the questions in Quiz 1 of the classroom.**\n",
    "\n",
    "a. Read in the dataset and take a look at the top few rows here:"
   ]
  },
  {
   "cell_type": "code",
   "execution_count": 2,
   "metadata": {
    "collapsed": true
   },
   "outputs": [],
   "source": [
    "ab_data = pd.read_csv('ab_data.csv')"
   ]
  },
  {
   "cell_type": "markdown",
   "metadata": {},
   "source": [
    "b. Use the below cell to find the number of rows in the dataset."
   ]
  },
  {
   "cell_type": "code",
   "execution_count": 3,
   "metadata": {},
   "outputs": [
    {
     "data": {
      "text/plain": [
       "294478"
      ]
     },
     "execution_count": 3,
     "metadata": {},
     "output_type": "execute_result"
    }
   ],
   "source": [
    "len(ab_data)"
   ]
  },
  {
   "cell_type": "markdown",
   "metadata": {},
   "source": [
    "c. The number of unique users in the dataset."
   ]
  },
  {
   "cell_type": "code",
   "execution_count": 4,
   "metadata": {},
   "outputs": [
    {
     "data": {
      "text/plain": [
       "290584"
      ]
     },
     "execution_count": 4,
     "metadata": {},
     "output_type": "execute_result"
    }
   ],
   "source": [
    "len(ab_data['user_id'].unique())"
   ]
  },
  {
   "cell_type": "markdown",
   "metadata": {
    "collapsed": true
   },
   "source": [
    "d. The proportion of users converted."
   ]
  },
  {
   "cell_type": "code",
   "execution_count": 5,
   "metadata": {},
   "outputs": [
    {
     "data": {
      "text/plain": [
       "11.965919355605514"
      ]
     },
     "execution_count": 5,
     "metadata": {},
     "output_type": "execute_result"
    }
   ],
   "source": [
    "(ab_data['converted']==1).value_counts()\n",
    "(1 - (259241/(35237+259241)))*100"
   ]
  },
  {
   "cell_type": "markdown",
   "metadata": {
    "collapsed": true
   },
   "source": [
    "e. The number of times the `new_page` and `treatment` don't line up."
   ]
  },
  {
   "cell_type": "code",
   "execution_count": 6,
   "metadata": {},
   "outputs": [
    {
     "data": {
      "text/plain": [
       "landing_page  group    \n",
       "new_page      control        1928\n",
       "              treatment    145311\n",
       "old_page      control      145274\n",
       "              treatment      1965\n",
       "Name: user_id, dtype: int64"
      ]
     },
     "execution_count": 6,
     "metadata": {},
     "output_type": "execute_result"
    }
   ],
   "source": [
    "ab_data.groupby(['landing_page', 'group']).count()['user_id']"
   ]
  },
  {
   "cell_type": "code",
   "execution_count": 7,
   "metadata": {},
   "outputs": [
    {
     "data": {
      "text/plain": [
       "3893"
      ]
     },
     "execution_count": 7,
     "metadata": {},
     "output_type": "execute_result"
    }
   ],
   "source": [
    "ab_data.groupby(['landing_page', 'group']).count()['user_id'][0] + ab_data.groupby(['landing_page', 'group']).count()['user_id'][3]"
   ]
  },
  {
   "cell_type": "code",
   "execution_count": 8,
   "metadata": {},
   "outputs": [
    {
     "data": {
      "text/html": [
       "<div>\n",
       "<style>\n",
       "    .dataframe thead tr:only-child th {\n",
       "        text-align: right;\n",
       "    }\n",
       "\n",
       "    .dataframe thead th {\n",
       "        text-align: left;\n",
       "    }\n",
       "\n",
       "    .dataframe tbody tr th {\n",
       "        vertical-align: top;\n",
       "    }\n",
       "</style>\n",
       "<table border=\"1\" class=\"dataframe\">\n",
       "  <thead>\n",
       "    <tr style=\"text-align: right;\">\n",
       "      <th></th>\n",
       "      <th></th>\n",
       "      <th>user_id</th>\n",
       "      <th>timestamp</th>\n",
       "      <th>converted</th>\n",
       "    </tr>\n",
       "    <tr>\n",
       "      <th>landing_page</th>\n",
       "      <th>group</th>\n",
       "      <th></th>\n",
       "      <th></th>\n",
       "      <th></th>\n",
       "    </tr>\n",
       "  </thead>\n",
       "  <tbody>\n",
       "    <tr>\n",
       "      <th rowspan=\"2\" valign=\"top\">new_page</th>\n",
       "      <th>control</th>\n",
       "      <td>1928</td>\n",
       "      <td>1928</td>\n",
       "      <td>1928</td>\n",
       "    </tr>\n",
       "    <tr>\n",
       "      <th>treatment</th>\n",
       "      <td>145311</td>\n",
       "      <td>145311</td>\n",
       "      <td>145311</td>\n",
       "    </tr>\n",
       "    <tr>\n",
       "      <th rowspan=\"2\" valign=\"top\">old_page</th>\n",
       "      <th>control</th>\n",
       "      <td>145274</td>\n",
       "      <td>145274</td>\n",
       "      <td>145274</td>\n",
       "    </tr>\n",
       "    <tr>\n",
       "      <th>treatment</th>\n",
       "      <td>1965</td>\n",
       "      <td>1965</td>\n",
       "      <td>1965</td>\n",
       "    </tr>\n",
       "  </tbody>\n",
       "</table>\n",
       "</div>"
      ],
      "text/plain": [
       "                        user_id  timestamp  converted\n",
       "landing_page group                                   \n",
       "new_page     control       1928       1928       1928\n",
       "             treatment   145311     145311     145311\n",
       "old_page     control     145274     145274     145274\n",
       "             treatment     1965       1965       1965"
      ]
     },
     "execution_count": 8,
     "metadata": {},
     "output_type": "execute_result"
    }
   ],
   "source": [
    "ab_data.groupby(['landing_page', 'group']).count()"
   ]
  },
  {
   "cell_type": "markdown",
   "metadata": {},
   "source": [
    "f. Do any of the rows have missing values?"
   ]
  },
  {
   "cell_type": "code",
   "execution_count": 9,
   "metadata": {},
   "outputs": [
    {
     "data": {
      "text/plain": [
       "False"
      ]
     },
     "execution_count": 9,
     "metadata": {},
     "output_type": "execute_result"
    }
   ],
   "source": [
    "ab_data.isnull().values.any()"
   ]
  },
  {
   "cell_type": "markdown",
   "metadata": {},
   "source": [
    "`2.` For the rows where **treatment** is not aligned with **new_page** or **control** is not aligned with **old_page**, we cannot be sure if this row truly received the new or old page.  Use **Quiz 2** in the classroom to provide how we should handle these rows.  \n",
    "\n",
    "a. Now use the answer to the quiz to create a new dataset that meets the specifications from the quiz.  Store your new dataframe in **df2**."
   ]
  },
  {
   "cell_type": "code",
   "execution_count": 10,
   "metadata": {},
   "outputs": [],
   "source": [
    "#remove bad treatment rows\n",
    "ab_data.drop(ab_data.query(\"group == 'treatment' and landing_page == 'old_page'\").index, inplace=True)\n",
    "#remove bad control rows\n",
    "ab_data.drop(ab_data.query(\"group == 'control' and landing_page == 'new_page'\").index, inplace=True)"
   ]
  },
  {
   "cell_type": "code",
   "execution_count": 11,
   "metadata": {},
   "outputs": [
    {
     "data": {
      "text/plain": [
       "landing_page  group    \n",
       "new_page      treatment    145311\n",
       "old_page      control      145274\n",
       "Name: user_id, dtype: int64"
      ]
     },
     "execution_count": 11,
     "metadata": {},
     "output_type": "execute_result"
    }
   ],
   "source": [
    "ab_data.groupby(['landing_page', 'group']).count()['user_id']\n",
    "#used for sanity check"
   ]
  },
  {
   "cell_type": "code",
   "execution_count": 12,
   "metadata": {
    "collapsed": true
   },
   "outputs": [],
   "source": [
    "df2 = ab_data\n",
    "#assign new df name to the one with the removed rows"
   ]
  },
  {
   "cell_type": "code",
   "execution_count": 13,
   "metadata": {},
   "outputs": [
    {
     "data": {
      "text/plain": [
       "0"
      ]
     },
     "execution_count": 13,
     "metadata": {},
     "output_type": "execute_result"
    }
   ],
   "source": [
    "# Double Check all of the correct rows were removed - this should be 0\n",
    "df2[((df2['group'] == 'treatment') == (df2['landing_page'] == 'new_page')) == False].shape[0]"
   ]
  },
  {
   "cell_type": "markdown",
   "metadata": {},
   "source": [
    "`3.` Use **df2** and the cells below to answer questions for **Quiz3** in the classroom."
   ]
  },
  {
   "cell_type": "markdown",
   "metadata": {},
   "source": [
    "a. How many unique **user_id**s are in **df2**?"
   ]
  },
  {
   "cell_type": "code",
   "execution_count": 14,
   "metadata": {},
   "outputs": [
    {
     "data": {
      "text/plain": [
       "290584"
      ]
     },
     "execution_count": 14,
     "metadata": {},
     "output_type": "execute_result"
    }
   ],
   "source": [
    "len(df2['user_id'].unique())"
   ]
  },
  {
   "cell_type": "markdown",
   "metadata": {
    "collapsed": true
   },
   "source": [
    "b. There is one **user_id** repeated in **df2**.  What is it?"
   ]
  },
  {
   "cell_type": "code",
   "execution_count": 15,
   "metadata": {
    "scrolled": true
   },
   "outputs": [
    {
     "data": {
      "text/plain": [
       "1899    773192\n",
       "2893    773192\n",
       "Name: user_id, dtype: int64"
      ]
     },
     "execution_count": 15,
     "metadata": {},
     "output_type": "execute_result"
    }
   ],
   "source": [
    "#df2['user_id'].duplicated(keep=False)\n",
    "df2[df2.duplicated(['user_id'], keep=False)]['user_id']\n",
    "#the first value of this output is the non-unique user_id"
   ]
  },
  {
   "cell_type": "markdown",
   "metadata": {},
   "source": [
    "c. What is the row information for the repeat **user_id**? "
   ]
  },
  {
   "cell_type": "code",
   "execution_count": 16,
   "metadata": {},
   "outputs": [
    {
     "data": {
      "text/html": [
       "<div>\n",
       "<style>\n",
       "    .dataframe thead tr:only-child th {\n",
       "        text-align: right;\n",
       "    }\n",
       "\n",
       "    .dataframe thead th {\n",
       "        text-align: left;\n",
       "    }\n",
       "\n",
       "    .dataframe tbody tr th {\n",
       "        vertical-align: top;\n",
       "    }\n",
       "</style>\n",
       "<table border=\"1\" class=\"dataframe\">\n",
       "  <thead>\n",
       "    <tr style=\"text-align: right;\">\n",
       "      <th></th>\n",
       "      <th>user_id</th>\n",
       "      <th>timestamp</th>\n",
       "      <th>group</th>\n",
       "      <th>landing_page</th>\n",
       "      <th>converted</th>\n",
       "    </tr>\n",
       "  </thead>\n",
       "  <tbody>\n",
       "    <tr>\n",
       "      <th>1899</th>\n",
       "      <td>773192</td>\n",
       "      <td>2017-01-09 05:37:58.781806</td>\n",
       "      <td>treatment</td>\n",
       "      <td>new_page</td>\n",
       "      <td>0</td>\n",
       "    </tr>\n",
       "    <tr>\n",
       "      <th>2893</th>\n",
       "      <td>773192</td>\n",
       "      <td>2017-01-14 02:55:59.590927</td>\n",
       "      <td>treatment</td>\n",
       "      <td>new_page</td>\n",
       "      <td>0</td>\n",
       "    </tr>\n",
       "  </tbody>\n",
       "</table>\n",
       "</div>"
      ],
      "text/plain": [
       "      user_id                   timestamp      group landing_page  converted\n",
       "1899   773192  2017-01-09 05:37:58.781806  treatment     new_page          0\n",
       "2893   773192  2017-01-14 02:55:59.590927  treatment     new_page          0"
      ]
     },
     "execution_count": 16,
     "metadata": {},
     "output_type": "execute_result"
    }
   ],
   "source": [
    "df2[df2.duplicated(['user_id'], keep=False)]"
   ]
  },
  {
   "cell_type": "markdown",
   "metadata": {},
   "source": [
    "d. Remove **one** of the rows with a duplicate **user_id**, but keep your dataframe as **df2**."
   ]
  },
  {
   "cell_type": "code",
   "execution_count": 17,
   "metadata": {},
   "outputs": [
    {
     "data": {
      "text/plain": [
       "290585"
      ]
     },
     "execution_count": 17,
     "metadata": {},
     "output_type": "execute_result"
    }
   ],
   "source": [
    "len(df2['user_id'])\n",
    "# get length of df before the duplicate row is removed"
   ]
  },
  {
   "cell_type": "code",
   "execution_count": 18,
   "metadata": {
    "scrolled": true
   },
   "outputs": [],
   "source": [
    "df2.drop(df2.index[1889], inplace=True)"
   ]
  },
  {
   "cell_type": "code",
   "execution_count": 19,
   "metadata": {},
   "outputs": [
    {
     "data": {
      "text/plain": [
       "290584"
      ]
     },
     "execution_count": 19,
     "metadata": {},
     "output_type": "execute_result"
    }
   ],
   "source": [
    "len(df2['user_id'])\n",
    "# get length of df after the duplicate row is removed"
   ]
  },
  {
   "cell_type": "markdown",
   "metadata": {},
   "source": [
    "`4.` Use **df2** in the below cells to answer the quiz questions related to **Quiz 4** in the classroom.\n",
    "\n",
    "a. What is the probability of an individual converting regardless of the page they receive?"
   ]
  },
  {
   "cell_type": "code",
   "execution_count": 20,
   "metadata": {},
   "outputs": [
    {
     "data": {
      "text/plain": [
       "0.11959708724499628"
      ]
     },
     "execution_count": 20,
     "metadata": {},
     "output_type": "execute_result"
    }
   ],
   "source": [
    "df2['converted'].mean()\n",
    "# percent of individuals"
   ]
  },
  {
   "cell_type": "markdown",
   "metadata": {},
   "source": [
    "b. Given that an individual was in the `control` group, what is the probability they converted?"
   ]
  },
  {
   "cell_type": "code",
   "execution_count": 21,
   "metadata": {},
   "outputs": [
    {
     "data": {
      "text/html": [
       "<div>\n",
       "<style>\n",
       "    .dataframe thead tr:only-child th {\n",
       "        text-align: right;\n",
       "    }\n",
       "\n",
       "    .dataframe thead th {\n",
       "        text-align: left;\n",
       "    }\n",
       "\n",
       "    .dataframe tbody tr th {\n",
       "        vertical-align: top;\n",
       "    }\n",
       "</style>\n",
       "<table border=\"1\" class=\"dataframe\">\n",
       "  <thead>\n",
       "    <tr>\n",
       "      <th></th>\n",
       "      <th colspan=\"8\" halign=\"left\">converted</th>\n",
       "      <th colspan=\"8\" halign=\"left\">user_id</th>\n",
       "    </tr>\n",
       "    <tr>\n",
       "      <th></th>\n",
       "      <th>count</th>\n",
       "      <th>mean</th>\n",
       "      <th>std</th>\n",
       "      <th>min</th>\n",
       "      <th>25%</th>\n",
       "      <th>50%</th>\n",
       "      <th>75%</th>\n",
       "      <th>max</th>\n",
       "      <th>count</th>\n",
       "      <th>mean</th>\n",
       "      <th>std</th>\n",
       "      <th>min</th>\n",
       "      <th>25%</th>\n",
       "      <th>50%</th>\n",
       "      <th>75%</th>\n",
       "      <th>max</th>\n",
       "    </tr>\n",
       "    <tr>\n",
       "      <th>group</th>\n",
       "      <th></th>\n",
       "      <th></th>\n",
       "      <th></th>\n",
       "      <th></th>\n",
       "      <th></th>\n",
       "      <th></th>\n",
       "      <th></th>\n",
       "      <th></th>\n",
       "      <th></th>\n",
       "      <th></th>\n",
       "      <th></th>\n",
       "      <th></th>\n",
       "      <th></th>\n",
       "      <th></th>\n",
       "      <th></th>\n",
       "      <th></th>\n",
       "    </tr>\n",
       "  </thead>\n",
       "  <tbody>\n",
       "    <tr>\n",
       "      <th>control</th>\n",
       "      <td>145274.0</td>\n",
       "      <td>0.120386</td>\n",
       "      <td>0.325414</td>\n",
       "      <td>0.0</td>\n",
       "      <td>0.0</td>\n",
       "      <td>0.0</td>\n",
       "      <td>0.0</td>\n",
       "      <td>1.0</td>\n",
       "      <td>145274.0</td>\n",
       "      <td>788164.072594</td>\n",
       "      <td>91287.914601</td>\n",
       "      <td>630002.0</td>\n",
       "      <td>709279.50</td>\n",
       "      <td>788128.5</td>\n",
       "      <td>867208.25</td>\n",
       "      <td>945998.0</td>\n",
       "    </tr>\n",
       "    <tr>\n",
       "      <th>treatment</th>\n",
       "      <td>145310.0</td>\n",
       "      <td>0.118808</td>\n",
       "      <td>0.323564</td>\n",
       "      <td>0.0</td>\n",
       "      <td>0.0</td>\n",
       "      <td>0.0</td>\n",
       "      <td>0.0</td>\n",
       "      <td>1.0</td>\n",
       "      <td>145310.0</td>\n",
       "      <td>787846.192396</td>\n",
       "      <td>91161.309987</td>\n",
       "      <td>630000.0</td>\n",
       "      <td>708748.25</td>\n",
       "      <td>787876.0</td>\n",
       "      <td>866718.75</td>\n",
       "      <td>945999.0</td>\n",
       "    </tr>\n",
       "  </tbody>\n",
       "</table>\n",
       "</div>"
      ],
      "text/plain": [
       "          converted                                                user_id  \\\n",
       "              count      mean       std  min  25%  50%  75%  max     count   \n",
       "group                                                                        \n",
       "control    145274.0  0.120386  0.325414  0.0  0.0  0.0  0.0  1.0  145274.0   \n",
       "treatment  145310.0  0.118808  0.323564  0.0  0.0  0.0  0.0  1.0  145310.0   \n",
       "\n",
       "                                                                       \\\n",
       "                    mean           std       min        25%       50%   \n",
       "group                                                                   \n",
       "control    788164.072594  91287.914601  630002.0  709279.50  788128.5   \n",
       "treatment  787846.192396  91161.309987  630000.0  708748.25  787876.0   \n",
       "\n",
       "                                \n",
       "                 75%       max  \n",
       "group                           \n",
       "control    867208.25  945998.0  \n",
       "treatment  866718.75  945999.0  "
      ]
     },
     "execution_count": 21,
     "metadata": {},
     "output_type": "execute_result"
    }
   ],
   "source": [
    "control_grp = df2.groupby(['group'])\n",
    "control_grp.describe()"
   ]
  },
  {
   "cell_type": "markdown",
   "metadata": {},
   "source": [
    "#### As shown in the table above, the probability that an individual converted given that they were in the control group is 0.120386. "
   ]
  },
  {
   "cell_type": "markdown",
   "metadata": {},
   "source": [
    "c. Given that an individual was in the `treatment` group, what is the probability they converted?"
   ]
  },
  {
   "cell_type": "markdown",
   "metadata": {},
   "source": [
    "#### From the same table created in the above segment (b), the probability that an individual converted given that they were in the treatment group is 0.118808. "
   ]
  },
  {
   "cell_type": "markdown",
   "metadata": {},
   "source": [
    "d. What is the probability that an individual received the new page?"
   ]
  },
  {
   "cell_type": "code",
   "execution_count": 22,
   "metadata": {},
   "outputs": [
    {
     "data": {
      "text/plain": [
       "0.50006194422266881"
      ]
     },
     "execution_count": 22,
     "metadata": {},
     "output_type": "execute_result"
    }
   ],
   "source": [
    "(df2['landing_page']=='new_page').mean()"
   ]
  },
  {
   "cell_type": "markdown",
   "metadata": {},
   "source": [
    "e. Use the results in the previous two portions of this question to suggest if you think there is evidence that one page leads to more conversions?  Write your response below."
   ]
  },
  {
   "cell_type": "markdown",
   "metadata": {},
   "source": [
    "**By the results in the previous sections, I believe that it doesn't matter which page the user is given to begin with, or there is not enough analysis complete yet. This is due to the fact that given an individual converted regardless of page, started off with the old_page, or were given the new_page to start, the probability of conversion was basically the same, or at least within 1 percentage difference. I guess the only thing I can note is that the old_page performed only slightly better than the new page.**"
   ]
  },
  {
   "cell_type": "markdown",
   "metadata": {},
   "source": [
    "<a id='ab_test'></a>\n",
    "### Part II - A/B Test\n",
    "\n",
    "Notice that because of the time stamp associated with each event, you could technically run a hypothesis test continuously as each observation was observed.  \n",
    "\n",
    "However, then the hard question is do you stop as soon as one page is considered significantly better than another or does it need to happen consistently for a certain amount of time?  How long do you run to render a decision that neither page is better than another?  \n",
    "\n",
    "These questions are the difficult parts associated with A/B tests in general.  \n",
    "\n",
    "\n",
    "`1.` For now, consider you need to make the decision just based on all the data provided.  If you want to assume that the old page is better unless the new page proves to be definitely better at a Type I error rate of 5%, what should your null and alternative hypotheses be?  You can state your hypothesis in terms of words or in terms of **$p_{old}$** and **$p_{new}$**, which are the converted rates for the old and new pages."
   ]
  },
  {
   "cell_type": "markdown",
   "metadata": {},
   "source": [
    "**If my Hypothesis is: p_old >= p_new\n",
    "\n",
    "Then, the Null Hypothesis should be: p_old < p_new**"
   ]
  },
  {
   "cell_type": "markdown",
   "metadata": {},
   "source": [
    "`2.` Assume under the null hypothesis, $p_{new}$ and $p_{old}$ both have \"true\" success rates equal to the **converted** success rate regardless of page - that is $p_{new}$ and $p_{old}$ are equal. Furthermore, assume they are equal to the **converted** rate in **ab_data.csv** regardless of the page. <br><br>\n",
    "\n",
    "Use a sample size for each page equal to the ones in **ab_data.csv**.  <br><br>\n",
    "\n",
    "Perform the sampling distribution for the difference in **converted** between the two pages over 10,000 iterations of calculating an estimate from the null.  <br><br>\n",
    "\n",
    "Use the cells below to provide the necessary parts of this simulation.  If this doesn't make complete sense right now, don't worry - you are going to work through the problems below to complete this problem.  You can use **Quiz 5** in the classroom to make sure you are on the right track.<br><br>"
   ]
  },
  {
   "cell_type": "markdown",
   "metadata": {},
   "source": [
    "a. What is the **convert rate** for $p_{new}$ under the null? "
   ]
  },
  {
   "cell_type": "code",
   "execution_count": 23,
   "metadata": {},
   "outputs": [
    {
     "data": {
      "text/plain": [
       "0.11959708724499628"
      ]
     },
     "execution_count": 23,
     "metadata": {},
     "output_type": "execute_result"
    }
   ],
   "source": [
    "p_new = df2['converted'].mean()\n",
    "p_new"
   ]
  },
  {
   "cell_type": "markdown",
   "metadata": {},
   "source": [
    "b. What is the **convert rate** for $p_{old}$ under the null? <br><br>"
   ]
  },
  {
   "cell_type": "code",
   "execution_count": 24,
   "metadata": {},
   "outputs": [
    {
     "data": {
      "text/plain": [
       "0.11959708724499628"
      ]
     },
     "execution_count": 24,
     "metadata": {},
     "output_type": "execute_result"
    }
   ],
   "source": [
    "p_old = df2['converted'].mean()\n",
    "p_old"
   ]
  },
  {
   "cell_type": "markdown",
   "metadata": {},
   "source": [
    "c. What is $n_{new}$?"
   ]
  },
  {
   "cell_type": "code",
   "execution_count": 25,
   "metadata": {},
   "outputs": [
    {
     "data": {
      "text/plain": [
       "145310"
      ]
     },
     "execution_count": 25,
     "metadata": {},
     "output_type": "execute_result"
    }
   ],
   "source": [
    "n_new = len(df2.query(\"group == 'treatment'\"))\n",
    "n_new"
   ]
  },
  {
   "cell_type": "markdown",
   "metadata": {},
   "source": [
    "d. What is $n_{old}$?"
   ]
  },
  {
   "cell_type": "code",
   "execution_count": 26,
   "metadata": {},
   "outputs": [
    {
     "data": {
      "text/plain": [
       "145274"
      ]
     },
     "execution_count": 26,
     "metadata": {},
     "output_type": "execute_result"
    }
   ],
   "source": [
    "n_old = len(df2.query(\"group == 'control'\"))\n",
    "n_old"
   ]
  },
  {
   "cell_type": "markdown",
   "metadata": {},
   "source": [
    "e. Simulate $n_{new}$ transactions with a convert rate of $p_{new}$ under the null.  Store these $n_{new}$ 1's and 0's in **new_page_converted**."
   ]
  },
  {
   "cell_type": "code",
   "execution_count": 27,
   "metadata": {},
   "outputs": [],
   "source": [
    "new_page_converted = np.random.binomial(n_new, p_new)"
   ]
  },
  {
   "cell_type": "markdown",
   "metadata": {},
   "source": [
    "f. Simulate $n_{old}$ transactions with a convert rate of $p_{old}$ under the null.  Store these $n_{old}$ 1's and 0's in **old_page_converted**."
   ]
  },
  {
   "cell_type": "code",
   "execution_count": 28,
   "metadata": {
    "collapsed": true
   },
   "outputs": [],
   "source": [
    "old_page_converted = np.random.binomial(n_old, p_old)"
   ]
  },
  {
   "cell_type": "markdown",
   "metadata": {},
   "source": [
    "g. Find $p_{new}$ - $p_{old}$ for your simulated values from part (e) and (f)."
   ]
  },
  {
   "cell_type": "code",
   "execution_count": 29,
   "metadata": {},
   "outputs": [
    {
     "data": {
      "text/plain": [
       "-0.0003119584712912571"
      ]
     },
     "execution_count": 29,
     "metadata": {},
     "output_type": "execute_result"
    }
   ],
   "source": [
    "(new_page_converted / n_new) - (old_page_converted / n_old)"
   ]
  },
  {
   "cell_type": "markdown",
   "metadata": {},
   "source": [
    "h. Simulate 10,000 $p_{new}$ - $p_{old}$ values using this same process similarly to the one you calculated in parts **a. through g.** above.  Store all 10,000 values in **p_diffs**."
   ]
  },
  {
   "cell_type": "code",
   "execution_count": 31,
   "metadata": {
    "collapsed": true
   },
   "outputs": [],
   "source": [
    "p_diffs = []\n",
    "\n",
    "for _ in range(10000):\n",
    "    new_page_converted = np.random.binomial(n_new, p_new)\n",
    "    old_page_converted = np.random.binomial(n_old, p_old)\n",
    "    p_diffs.append((new_page_converted / n_new) - (old_page_converted / n_old))"
   ]
  },
  {
   "cell_type": "code",
   "execution_count": 32,
   "metadata": {},
   "outputs": [
    {
     "data": {
      "text/plain": [
       "[-0.0005526710521486372,\n",
       " 0.000810006366655458,\n",
       " 0.0015876302789376295,\n",
       " 0.00017014031232504,\n",
       " -0.0007936599032542235,\n",
       " -0.0013787628655613088,\n",
       " 0.00034202427267766844,\n",
       " 0.0003488276643974775,\n",
       " -0.00026377536726848727,\n",
       " -0.00011208841058749086,\n",
       " -0.0016333465625032184,\n",
       " 6.65511910716704e-05,\n",
       " 0.00014908380121451958,\n",
       " 0.0006244388811275925,\n",
       " 0.0011955274761103057,\n",
       " 0.0019526900520759616,\n",
       " -4.334846942166681e-05,\n",
       " -0.001344264992085703,\n",
       " -0.0004427270519858223,\n",
       " -0.00029807712297529043,\n",
       " 0.0001287827698568389,\n",
       " 0.001684269346487563,\n",
       " -0.00022923656486721622,\n",
       " 0.0012642435420694986,\n",
       " -0.0008349714006810754,\n",
       " 0.0021385747367777125,\n",
       " -0.0002977837990080501,\n",
       " 0.00033537606980099666,\n",
       " -0.0006008115218738147,\n",
       " 0.0008721373284983625,\n",
       " 0.0019044421439209092,\n",
       " -0.0003600051455617953,\n",
       " 0.00204177536426893,\n",
       " 0.001326074358457538,\n",
       " 0.0007136708553041743,\n",
       " 0.00013557422397332541,\n",
       " 0.0005832262952710915,\n",
       " 5.298192581390526e-05,\n",
       " 0.0004382881584090309,\n",
       " 0.0014295560412810465,\n",
       " -0.00036027288895050524,\n",
       " 0.000892820363162225,\n",
       " 0.0003694646540199631,\n",
       " -0.0010411230093024526,\n",
       " 0.0003972426989989897,\n",
       " -0.0003945678231697114,\n",
       " 0.0008651804533073154,\n",
       " 4.598923781289066e-05,\n",
       " -0.0007729103590861652,\n",
       " 0.0022485733088414006,\n",
       " 0.0012020887050199491,\n",
       " 0.0022831189327302825,\n",
       " -0.0019015762664385122,\n",
       " -0.0011378882743731666,\n",
       " 0.0006244371757556932,\n",
       " 0.00034866906481052784,\n",
       " -0.0032093967977646215,\n",
       " -0.0015370110511519625,\n",
       " 0.0018077195131477458,\n",
       " 0.0003075570958962909,\n",
       " -0.0011240512657266916,\n",
       " 0.000851232595487153,\n",
       " -0.0017501724014933606,\n",
       " 0.0004386053575829163,\n",
       " 0.000837724723617872,\n",
       " 0.0012229047586922032,\n",
       " 0.0010853498399968353,\n",
       " 0.0016773926237759335,\n",
       " -0.0011723929693363971,\n",
       " -0.0026034863086447924,\n",
       " -0.00040101479216186897,\n",
       " 0.001092427796592993,\n",
       " -2.9658122758804972e-05,\n",
       " -0.001295911350872675,\n",
       " -9.165947633711646e-05,\n",
       " 0.0015671382459268718,\n",
       " 0.0005004071826486267,\n",
       " -0.0002845590188746139,\n",
       " -0.0012958908864098423,\n",
       " -0.00023636909336423317,\n",
       " 0.0012988744345535097,\n",
       " 0.0010028888554739074,\n",
       " 0.0016981643377787514,\n",
       " -0.0003048788093232141,\n",
       " -0.0006215644767856854,\n",
       " 0.00032851810618030053,\n",
       " -0.0013785701585363047,\n",
       " 0.0010645832421097429,\n",
       " 0.00014892179088375757,\n",
       " -0.001991261869541211,\n",
       " -6.398204830034004e-05,\n",
       " 0.0008098085435147423,\n",
       " -0.0025624357331190534,\n",
       " -0.0006697799828745965,\n",
       " -2.9419370692423952e-05,\n",
       " -0.0012754568360437563,\n",
       " 0.0001971304754850578,\n",
       " 0.00012887144919578042,\n",
       " -0.0012064883750429883,\n",
       " 7.376898816383037e-05,\n",
       " -0.00013269981963143218,\n",
       " -0.0010552635741475913,\n",
       " 0.0010922845453531504,\n",
       " 0.0003628744337879908,\n",
       " -0.0015230069160589998,\n",
       " -0.00040120408844307454,\n",
       " 0.00040412453782633084,\n",
       " -0.00107581017905925,\n",
       " -0.0014474567616857559,\n",
       " -0.0006419337230194611,\n",
       " 0.0008374296942787185,\n",
       " -0.00024287575037300335,\n",
       " -0.0010413378861621747,\n",
       " 0.0011681570150160192,\n",
       " 0.0011678602803049526,\n",
       " 0.0004177483749849831,\n",
       " -0.00021531428762559812,\n",
       " -0.0027486137417880724,\n",
       " 0.0010577389214642685,\n",
       " -0.001722767832960992,\n",
       " -2.2737060377711615e-05,\n",
       " -0.0004289667850749662,\n",
       " 0.001346684062129594,\n",
       " -0.00036002902076842647,\n",
       " -0.0004149012565935195,\n",
       " 0.0037629547380455125,\n",
       " -0.0019706709249601023,\n",
       " -0.00033936986131120894,\n",
       " 0.000410997849794148,\n",
       " -0.00033968023899748345,\n",
       " -0.0013648218292287573,\n",
       " -0.000821115632943667,\n",
       " -1.5884212872713244e-05,\n",
       " -0.00041492513180016455,\n",
       " -0.002211465363668799,\n",
       " 0.0012228331330723097,\n",
       " -0.0013786912399413875,\n",
       " -0.00011904016966282627,\n",
       " -0.0003116412721173578,\n",
       " 0.0008238331430705098,\n",
       " -0.00038058244716769607,\n",
       " 0.002441450681544166,\n",
       " -0.0016059181187642324,\n",
       " 0.0006177446332095438,\n",
       " 0.0009684114464611343,\n",
       " -0.0017776196043232662,\n",
       " 0.0013468239026256101,\n",
       " -0.0008969693435155884,\n",
       " 0.0019183780641377352,\n",
       " -0.00048395498618943045,\n",
       " 1.841242671839216e-05,\n",
       " 1.171135731273254e-05,\n",
       " 0.00020442842505663528,\n",
       " -0.00011217367918262,\n",
       " 0.0012092263496326777,\n",
       " -0.002418027966918715,\n",
       " -0.00039454394796306635,\n",
       " 0.0016356752478362824,\n",
       " -0.0008690804493628745,\n",
       " 0.0006654536438433639,\n",
       " 0.002090118773250535,\n",
       " -0.0012341334010136096,\n",
       " -0.0008071626590078068,\n",
       " 0.0014845902874369016,\n",
       " -0.002665903772967354,\n",
       " 0.000906212269742121,\n",
       " -0.00022896370536279465,\n",
       " -0.0008764687836452928,\n",
       " -0.0011651871098475597,\n",
       " -0.000986206433807868,\n",
       " 0.0021317031301817946,\n",
       " -0.0006697492861803406,\n",
       " -0.0008763613452154456,\n",
       " -2.2723417402489843e-05,\n",
       " -0.0004424763623161465,\n",
       " 0.0001561702846701596,\n",
       " 0.0025100541929577724,\n",
       " 0.0005345503387684802,\n",
       " -0.0005114311803416927,\n",
       " 0.0024409799988990427,\n",
       " -0.0009104686885253316,\n",
       " 0.00032824865741967746,\n",
       " -0.0010550810993540105,\n",
       " -0.0005802035235736719,\n",
       " 0.00021795505601684972,\n",
       " -0.000270101254855562,\n",
       " 6.672172826194256e-05,\n",
       " 0.002193342944916757,\n",
       " -0.0026520548267175564,\n",
       " -0.000339485826600594,\n",
       " -0.0008004888755525769,\n",
       " 0.0022829586277714337,\n",
       " 0.001119718105207862,\n",
       " 0.0018563767105594375,\n",
       " -0.0009657740888136951,\n",
       " 3.892662956388182e-05,\n",
       " 0.0001765634061105803,\n",
       " -0.0009038051373015527,\n",
       " -0.00022912571569354279,\n",
       " 6.67336658652512e-05,\n",
       " 0.0007204998276025276,\n",
       " -0.0002220324107502919,\n",
       " -0.000559718312050525,\n",
       " 0.0003626749052753758,\n",
       " -0.0006352957523742125,\n",
       " -0.001096527321161167,\n",
       " -0.0008347650506808496,\n",
       " -0.0003118408006299589,\n",
       " -0.0005183317782599672,\n",
       " 0.00023845732125903074,\n",
       " 0.0009960308918532113,\n",
       " -0.0009794917214270005,\n",
       " 4.67944575796575e-06,\n",
       " -0.0025762659202779453,\n",
       " -0.002080826391238827,\n",
       " -0.00016733412285925564,\n",
       " 0.002207343669265893,\n",
       " -0.0014613568690926282,\n",
       " -0.0009172686695013421,\n",
       " 0.0007963825294967919,\n",
       " -5.7067807406857574e-05,\n",
       " 0.0013605807587926677,\n",
       " -0.00011241584199279953,\n",
       " -0.0010276424233836012,\n",
       " 0.0010787186908391977,\n",
       " 6.670637991482153e-05,\n",
       " 0.0019524427731500843,\n",
       " -0.002273262072618784,\n",
       " -0.0012958226715337334,\n",
       " 0.0026682580388789484,\n",
       " -0.00014648396174894718,\n",
       " 0.001959541194209047,\n",
       " -0.0018121072455674625,\n",
       " -0.00270736875386543,\n",
       " -0.0008417151043842996,\n",
       " 0.0010030184637385142,\n",
       " -0.0006695975080810157,\n",
       " -0.0023353469894203394,\n",
       " -0.00019503201535885084,\n",
       " -0.0006078519602880916,\n",
       " 0.0003625794044488373,\n",
       " 0.0017459279203134587,\n",
       " -0.000662644043633781,\n",
       " -1.5879096757015487e-05,\n",
       " -0.0018740796078234312,\n",
       " -6.398886978795093e-05,\n",
       " -0.0018326061000658311,\n",
       " 0.0020421454299718034,\n",
       " 0.0004453490612861405,\n",
       " -0.000931334197982775,\n",
       " -0.0011652195119137149,\n",
       " -0.0009522679223163272,\n",
       " 0.0005346253751322,\n",
       " 6.648127082366229e-05,\n",
       " 0.0019734054888059793,\n",
       " 0.0007137868205935594,\n",
       " 0.0010302473789648992,\n",
       " -0.0017225324916384371,\n",
       " 0.0017735490710774349,\n",
       " 0.0004245364183576711,\n",
       " -0.001110364329807642,\n",
       " 0.0022828511893415726,\n",
       " 0.00018376585485560537,\n",
       " 0.001822040847414566,\n",
       " -0.0005801523624165972,\n",
       " 0.0007135975243123677,\n",
       " -0.0017092736040669465,\n",
       " -0.00024985650077068156,\n",
       " 0.0012367298297353696,\n",
       " -0.0011376751028853438,\n",
       " 0.0029646187997771217,\n",
       " -0.001564442905634747,\n",
       " -0.0013853036300081195,\n",
       " -0.0016953734966600742,\n",
       " 0.0016702890866012732,\n",
       " 0.0006306965538385584,\n",
       " 0.00047952291410024994,\n",
       " 0.0007826444324206677,\n",
       " 0.0008103627893831095,\n",
       " -0.0020048174918237543,\n",
       " 0.002165638230929537,\n",
       " -0.0008898828600599346,\n",
       " 0.0011748444414464432,\n",
       " 0.0005758840060300502,\n",
       " -0.001185929832528021,\n",
       " -0.0024664242424292937,\n",
       " -0.00015369493735348239,\n",
       " 0.001642828240796132,\n",
       " 0.0005896476836847186,\n",
       " 0.0005211311462381407,\n",
       " 0.001264330516036527,\n",
       " 0.0001559230057442823,\n",
       " -0.0013923611221414167,\n",
       " -0.0008074610990907588,\n",
       " 0.0003971199122220076,\n",
       " 0.0004452177476496344,\n",
       " 0.0011541716390140039,\n",
       " 0.0006724207512658342,\n",
       " -0.0015230938900260421,\n",
       " 0.00027982850670245363,\n",
       " 5.297851507009288e-05,\n",
       " -0.0016674180930031646,\n",
       " -0.0008624083712795716,\n",
       " 5.999166753394014e-05,\n",
       " 0.000589881319635388,\n",
       " 0.0018081305077762844,\n",
       " -0.0013441319730772838,\n",
       " -0.001048258948543268,\n",
       " 0.0014225241297262797,\n",
       " 0.002620001603864372,\n",
       " 0.0023515519069536445,\n",
       " -0.00012600898245719583,\n",
       " -0.0016193083199722291,\n",
       " -8.98702569825105e-06,\n",
       " 0.001071702127631552,\n",
       " -0.0009106204666246703,\n",
       " -0.0025761209636662175,\n",
       " 0.0015741053533493282,\n",
       " 0.0016772067382385542,\n",
       " -0.0007247767108485847,\n",
       " -0.0010825794633410046,\n",
       " -0.0009931360230484854,\n",
       " 0.0007411623978035575,\n",
       " -0.00011247211926557199,\n",
       " 0.00255815884987301,\n",
       " -0.000993202532552681,\n",
       " -0.002156362902636849,\n",
       " -0.002218336970264717,\n",
       " -0.0008415206919873824,\n",
       " 5.293588077254219e-05,\n",
       " -0.0012545742728673065,\n",
       " 0.000397061929577322,\n",
       " 0.0008926088970463014,\n",
       " 0.001312337966753313,\n",
       " 0.00010099108190259054,\n",
       " -0.0011307898533142041,\n",
       " 0.0018562317539477097,\n",
       " -0.0010002344441074618,\n",
       " 0.0012367997499833916,\n",
       " 0.0022622483071571414,\n",
       " 0.0019046058596235704,\n",
       " 0.001429552630537248,\n",
       " 0.0016430226531930214,\n",
       " 0.0006720592124224711,\n",
       " -0.0017090536110915128,\n",
       " 0.002585802170471732,\n",
       " 0.0017529393674053928,\n",
       " -0.0001744308385463189,\n",
       " -0.0004840709514788155,\n",
       " -0.0011788774565104215,\n",
       " 0.00027994276661992556,\n",
       " 0.00015586331772768358,\n",
       " -0.001048320341931766,\n",
       " -0.0006353076899775351,\n",
       " -0.0013580252589965591,\n",
       " -0.0005184477435493384,\n",
       " -0.0010483527439979212,\n",
       " 0.0008305256856166593,\n",
       " 0.0007825745121726596,\n",
       " 0.0010920781953529524,\n",
       " 0.00021820745105842476,\n",
       " -0.001227041801442244,\n",
       " 0.00043148817743302037,\n",
       " 0.0011611319249488633,\n",
       " -0.0006629373676010214,\n",
       " -0.001399343577911022,\n",
       " -0.0017431626597733257,\n",
       " -0.0017572946977589543,\n",
       " 0.001408605263228488,\n",
       " -0.0014268692278484457,\n",
       " 0.0016290406879348185,\n",
       " -0.0003120710258368298,\n",
       " 0.002585907903529694,\n",
       " 0.000548784699068286,\n",
       " 0.0006999651602942053,\n",
       " 0.00029365187237370693,\n",
       " -0.0012616999798766987,\n",
       " 0.0020558391873784637,\n",
       " 0.0017393752182633254,\n",
       " -0.0002845044469737268,\n",
       " -0.0018125966873035193,\n",
       " 0.0008031262332000161,\n",
       " -0.001791562346027717,\n",
       " -9.827698251953232e-05,\n",
       " 0.0008723283301514673,\n",
       " -0.00197059247785257,\n",
       " -0.0009725501945830745,\n",
       " -0.00048368894817261976,\n",
       " -0.0008903092030355803,\n",
       " -0.0005319794906252506,\n",
       " 0.00032172324131998775,\n",
       " -8.463438626996056e-05,\n",
       " 0.0011541221832288145,\n",
       " -0.0022802615821074096,\n",
       " 0.0006310120476405445,\n",
       " -0.0003808689496473394,\n",
       " 0.0013126415229519767,\n",
       " 0.001278213569724393,\n",
       " 7.362232618018938e-05,\n",
       " -0.001179186128824783,\n",
       " 0.0013399761712363234,\n",
       " 0.00017688913214397584,\n",
       " 0.0027854420059686413,\n",
       " -0.002046319990903697,\n",
       " 0.0005485220717952738,\n",
       " -0.0003117981663324082,\n",
       " -0.0013649190354272228,\n",
       " -6.430095284613857e-05,\n",
       " 0.0004107863836782244,\n",
       " 0.0003145651322444404,\n",
       " -0.00018084711084424832,\n",
       " -0.0015782168155208248,\n",
       " 0.000527920894982728,\n",
       " -0.00020157960129327246,\n",
       " -0.0010000997197271433,\n",
       " 0.0013397715266080107,\n",
       " 0.0021592287801192322,\n",
       " -0.00024311620781126975,\n",
       " -0.0017363439197063818,\n",
       " 0.0004039505898922602,\n",
       " 0.0014154274140392165,\n",
       " 0.00031474249092229567,\n",
       " 0.0025307935048944213,\n",
       " -0.0001809374955550752,\n",
       " -0.0028239575461611044,\n",
       " -0.0009106801546412691,\n",
       " 0.0005208088309485437,\n",
       " 0.0011126128626612747,\n",
       " -0.0016678290876317031,\n",
       " -0.0006560947523274463,\n",
       " 0.00017007209744894503,\n",
       " 0.0024548988653968346,\n",
       " -0.001970698210910532,\n",
       " -0.0012271304807811856,\n",
       " 0.002792265862151283,\n",
       " -0.0009108575133191382,\n",
       " 0.0015946536636328862,\n",
       " -0.00038068476948185936,\n",
       " 0.0009474879543590053,\n",
       " 0.00034868100241385036,\n",
       " 0.0006930850268387634,\n",
       " 0.0005415140354471382,\n",
       " -0.00108253682904344,\n",
       " -0.0016812397533025325,\n",
       " -0.0006629458944605315,\n",
       " -0.000834799158118904,\n",
       " 0.0004864115744151881,\n",
       " -2.2699542195844802e-05,\n",
       " 0.0006865357355324564,\n",
       " 0.000637950163740672,\n",
       " 0.0010097809265326718,\n",
       " 0.0003768444614428851,\n",
       " -0.0002981487485952117,\n",
       " 0.0019662797817965594,\n",
       " 0.0007411675139192692,\n",
       " 0.0002113017370244663,\n",
       " 0.00071350884497344,\n",
       " 0.00032100527974898707,\n",
       " -0.001089432310846003,\n",
       " 0.0014983590812072678,\n",
       " 0.00043854055345060594,\n",
       " 0.0008374177566754099,\n",
       " -0.0003048378803975349,\n",
       " 0.002269309210034237,\n",
       " -0.0007937144751551106,\n",
       " 0.0009752131328090441,\n",
       " 0.00021837457750488454,\n",
       " -9.831450070139913e-05,\n",
       " -7.089117307811088e-05,\n",
       " -0.001585236789472283,\n",
       " -0.00040145989422846196,\n",
       " -0.00033250507620290193,\n",
       " -0.0014063243283087001,\n",
       " -0.0016196579212122697,\n",
       " -0.0005046823605227568,\n",
       " 0.00038318399200516773,\n",
       " -0.0008967322968211205,\n",
       " 0.0007204981222306284,\n",
       " 0.0025307406383654335,\n",
       " 0.0009749061658665681,\n",
       " -0.000312072731208729,\n",
       " 0.0010782036685245966,\n",
       " 0.00036966077178876566,\n",
       " -0.0008210286589766247,\n",
       " -0.0003806608942752143,\n",
       " -0.0005113254472837309,\n",
       " 0.0012160433843277085,\n",
       " 0.0005897977564121581,\n",
       " -0.0005389670625105536,\n",
       " 0.0001698845065396526,\n",
       " -0.0015576292816835147,\n",
       " 0.0006929912313841241,\n",
       " 0.0004313790336312462,\n",
       " 0.0014090537760388655,\n",
       " -0.0008830811737120248,\n",
       " -0.0008141945705625597,\n",
       " -2.9521693006601124e-05,\n",
       " 0.0008581161396863934,\n",
       " 0.00039706363494922126,\n",
       " 0.0002732416972142798,\n",
       " -0.002590000606610271,\n",
       " -0.003361046236263779,\n",
       " -0.000766043868605959,\n",
       " -0.0010895977319205497,\n",
       " 0.002159027546234732,\n",
       " 0.0007618624861864542,\n",
       " -0.0007730808962764374,\n",
       " -0.00022238542273413098,\n",
       " -0.0007110505513757692,\n",
       " -0.0010961947736401467,\n",
       " -0.0004770390399240487,\n",
       " 0.0015394778716091156,\n",
       " -0.0009520888582665588,\n",
       " 0.0007136930251389062,\n",
       " -0.003154304568964081,\n",
       " -0.0010690562431246026,\n",
       " -0.0007660336363745357,\n",
       " -0.00032574431878065746,\n",
       " 0.00043826428320238586,\n",
       " -0.000511656289432838,\n",
       " -0.0016334250096107505,\n",
       " 0.0031778688294574614,\n",
       " 0.00010795307320936309,\n",
       " -0.0005596688562653357,\n",
       " 0.0017529342512896673,\n",
       " -0.0005250311422937137,\n",
       " -0.0007936888945765802,\n",
       " -0.00020845461863300274,\n",
       " 0.00035576748586950424,\n",
       " -0.0017573560911474523,\n",
       " 0.0003006667302094673,\n",
       " 0.001036956975230055,\n",
       " -0.0005111753745563052,\n",
       " -0.0017500820167825198,\n",
       " 0.0007756619766510764,\n",
       " 0.000982060864198317,\n",
       " -0.0004289139185459784,\n",
       " 0.0020009294333715177,\n",
       " -0.0004840300225531502,\n",
       " -8.833542227013047e-06,\n",
       " 0.0018010269706015963,\n",
       " 0.0006173745675066705,\n",
       " 0.0008513894897021895,\n",
       " 0.0018425090052187065,\n",
       " -0.0018947387672806487,\n",
       " -0.0006903419361333762,\n",
       " 0.0008651122384312065,\n",
       " -0.001832965933537295,\n",
       " 0.0007480203614242537,\n",
       " -0.0006630055824771303,\n",
       " -0.001839776146744715,\n",
       " 0.0005692392138971908,\n",
       " 0.0020009362548591286,\n",
       " 0.0016430993949286404,\n",
       " 0.001877018816297621,\n",
       " 0.0018357073188707829,\n",
       " 6.681893446039422e-05,\n",
       " 0.0004246063386056792,\n",
       " -0.001124017158288651,\n",
       " 0.0003694800023670841,\n",
       " 0.0014502271383416004,\n",
       " 0.003494097457250045,\n",
       " 0.0014432020482744445,\n",
       " 0.0006727004322578667,\n",
       " -0.0019702974485134167,\n",
       " 0.00021812388783519487,\n",
       " -0.0011377057995795858,\n",
       " 0.00032124232644345496,\n",
       " -0.0007731985669377078,\n",
       " 0.0008786559231104413,\n",
       " 0.0003144338186079343,\n",
       " -0.00013299484897058567,\n",
       " 0.0005624375275492671,\n",
       " 0.0011886763339772066,\n",
       " 0.0015811884260611836,\n",
       " 0.0019251985095765922,\n",
       " -0.00010524579531391576,\n",
       " -0.00047015720109672143,\n",
       " 0.0002940236434484933,\n",
       " 0.0009889819265794242,\n",
       " 0.0018768073501816973,\n",
       " -0.001227178231194448,\n",
       " -0.00033933404850125526,\n",
       " 0.0013607086616853614,\n",
       " -0.00010532253704953476,\n",
       " -0.0003669091542238545,\n",
       " -2.2994571534998287e-05,\n",
       " -5.726051443186164e-05,\n",
       " -0.0001741392199509778,\n",
       " -0.00029807030148767955,\n",
       " 0.0021590531268132623,\n",
       " 0.00041069088285168587,\n",
       " 0.00044526720343480986,\n",
       " 0.0017458869913877795,\n",
       " -0.0012616351757444022,\n",
       " -0.00080730932099142,\n",
       " 0.0010716918954001287,\n",
       " 0.0033151713531112265,\n",
       " -0.001461164162067638,\n",
       " -0.00013308523368144032,\n",
       " -0.001991202181524626,\n",
       " -0.00016028856832926708,\n",
       " 0.00047296509593440506,\n",
       " 0.001388387795094037,\n",
       " 0.0013608382699499683,\n",
       " 0.0014570987449375183,\n",
       " -0.0008006065462138751,\n",
       " -0.0010691568600668666,\n",
       " 0.0018834521423145706,\n",
       " -0.001117021059543838,\n",
       " 0.0005071918152775023,\n",
       " -0.0009724751582193547,\n",
       " -0.00023617468096734373,\n",
       " 0.0006241745484826811,\n",
       " -0.000573393310366252,\n",
       " 0.00018373174741755094,\n",
       " -0.0012549477493139644,\n",
       " 0.0005483737044397474,\n",
       " -0.00027740090979903875,\n",
       " -0.0004219740970739516,\n",
       " 0.00028691669553000676,\n",
       " 0.00048645250334085344,\n",
       " 0.0010096649612432868,\n",
       " 0.000376344787475405,\n",
       " -0.0007522341459099136,\n",
       " -0.0010550572241473793,\n",
       " 0.0014155962458575755,\n",
       " -0.0012683618257285922,\n",
       " -0.0002636866879295596,\n",
       " 0.0008443592835193359,\n",
       " 1.8649473412846174e-05,\n",
       " -0.0013234762243638787,\n",
       " 5.2964872094884985e-05,\n",
       " -0.001543741111879951,\n",
       " 0.001050664375611951,\n",
       " 0.00125746573092822,\n",
       " -0.00057337114053152,\n",
       " 0.00040425244071902455,\n",
       " 0.002964069670024466,\n",
       " 0.0017253966637489349,\n",
       " 0.0017942542755760293,\n",
       " -0.000676463998561222,\n",
       " 0.0010306327930148934,\n",
       " 0.001855858277501024,\n",
       " -0.00024301900161281809,\n",
       " -0.0024589216482294035,\n",
       " 0.001491274303123527,\n",
       " 0.0020283305911600463,\n",
       " 0.000534702116867819,\n",
       " 0.0008582167566286575,\n",
       " -0.0008486805064348568,\n",
       " -0.002162895140224136,\n",
       " 0.0008650184429765534,\n",
       " 0.0006383304616749547,\n",
       " 0.0001976011581301812,\n",
       " -0.0004976419221084799,\n",
       " -0.0008141979813063721,\n",
       " 0.002282668714547978,\n",
       " -0.0018948615540576447,\n",
       " 0.003232884316522383,\n",
       " -0.0007522222083066049,\n",
       " 0.0009752472402470985,\n",
       " -0.0037942610080053396,\n",
       " 0.0003420259780495677,\n",
       " -0.0007589573851503051,\n",
       " -0.002135742966733384,\n",
       " -0.0017983759699789492,\n",
       " -0.0007867746536830977,\n",
       " 0.00029384969551442264,\n",
       " -7.085877101196958e-05,\n",
       " -0.0014544784410091133,\n",
       " -0.0003050169444473311,\n",
       " -0.0007314146814938471,\n",
       " -0.0008211838478197758,\n",
       " 0.0006172671290768095,\n",
       " 0.0008720452384156224,\n",
       " 0.001409065713642188,\n",
       " 0.0005069991082525122,\n",
       " 0.0009338112506713792,\n",
       " 0.0009892053302986703,\n",
       " -0.0005664483727785136,\n",
       " 0.0010440895037270859,\n",
       " 0.0005622192399457326,\n",
       " -1.572049717006585e-05,\n",
       " 5.98143088560571e-05,\n",
       " 0.0003970977423872618,\n",
       " 0.0009959336856547735,\n",
       " -0.0008832517109022692,\n",
       " 0.00010105247529108852,\n",
       " -0.0019909804831772793,\n",
       " -0.0009587063644489885,\n",
       " 0.0007755408952459936,\n",
       " 0.0008720878727131731,\n",
       " -0.0022320699512251296,\n",
       " 0.000940735723796271,\n",
       " 0.0029916839993008454,\n",
       " 0.0004588330579487765,\n",
       " 0.0017325138438988308,\n",
       " 0.0005899785258338258,\n",
       " -0.0005524783451236331,\n",
       " -0.0006973857852914656,\n",
       " -0.0003803505165889398,\n",
       " -8.446896519540004e-05,\n",
       " -0.0026863020105234725,\n",
       " 0.0005415566697447027,\n",
       " -0.00027728835525346607,\n",
       " -0.0019909190897887813,\n",
       " -0.0004563355407973535,\n",
       " -0.00016024252328789013,\n",
       " -0.0007111187662518781,\n",
       " -0.0008071285515697385,\n",
       " -0.0009246348339490285,\n",
       " -0.00039449619754980403,\n",
       " 0.0010715998053174025,\n",
       " 3.9146622539329434e-05,\n",
       " -0.0011377893628028157,\n",
       " -0.0011100522467494545,\n",
       " 0.0013676280186945555,\n",
       " -0.0006835794733392325,\n",
       " -0.0010002327387355625,\n",
       " 0.0002594899571629339,\n",
       " 0.001319356235332858,\n",
       " -9.874425442087109e-05,\n",
       " -0.0005457005339823545,\n",
       " -0.0003668665199263038,\n",
       " -0.002273383154023881,\n",
       " 0.0010028837393582096,\n",
       " -0.00029096164819729375,\n",
       " -0.0019636611832400674,\n",
       " -0.0006351934300600492,\n",
       " 0.0013329544919129799,\n",
       " -0.0012339799175423716,\n",
       " 0.001133655730796601,\n",
       " 0.00200078447675979,\n",
       " -0.00233552946421392,\n",
       " 0.0006241762538545803,\n",
       " -7.100202225179819e-05,\n",
       " -3.6596238858918606e-05,\n",
       " 0.0006309387166487379,\n",
       " 0.0010644109995475853,\n",
       " 0.0010923698139482935,\n",
       " 0.0011403823807807772,\n",
       " 0.00017682432801167935,\n",
       " 0.001883731823306603,\n",
       " 0.002138692407438997,\n",
       " -0.0010758800993072581,\n",
       " -2.1017761271252544e-06,\n",
       " 0.0008856554325990529,\n",
       " 0.0013538234121142356,\n",
       " 0.0004384382311364565,\n",
       " -0.00044945540734192546,\n",
       " -0.0007662058789367071,\n",
       " -0.000979472962336081,\n",
       " -0.0001948597727966933,\n",
       " -0.0003119618820350556,\n",
       " 0.00010128952198555641,\n",
       " -0.0014818369645000912,\n",
       " -8.449625114584358e-05,\n",
       " -0.00030498965849687365,\n",
       " -0.001977341297671506,\n",
       " -0.00015357215057648643,\n",
       " 0.0005623164461441843,\n",
       " 0.0006241745484826811,\n",
       " 0.0007964558604886124,\n",
       " -0.0002291342425530668,\n",
       " 1.857102630532792e-05,\n",
       " 1.165508003993232e-05,\n",
       " -0.00029802425644631647,\n",
       " -0.0005181322497473523,\n",
       " 0.00015631524128188745,\n",
       " -0.0011515104061599335,\n",
       " 0.00025926996418748627,\n",
       " 9.448783563764662e-05,\n",
       " 0.00012184465375672526,\n",
       " 0.0017872752305502365,\n",
       " -0.0007591705566381418,\n",
       " 0.0006929929367560372,\n",
       " 0.0003281667995683468,\n",
       " -0.0006557741424097485,\n",
       " 0.0003213889884270682,\n",
       " 2.5475034967401e-05,\n",
       " 9.414164514140455e-05,\n",
       " -0.0002566121420772144,\n",
       " -0.0007250376327496977,\n",
       " 0.001863052199386539,\n",
       " 0.0011267943564320926,\n",
       " -0.00044953555982135684,\n",
       " -0.0003118442113737713,\n",
       " 0.0018010832478743827,\n",
       " 0.0024205357163015334,\n",
       " -0.0008557141233615229,\n",
       " 0.0016222577606778421,\n",
       " 8.044106624713332e-05,\n",
       " 0.00037639765400439285,\n",
       " 0.0004452279798810438,\n",
       " -0.0017228053511428726,\n",
       " -0.002665726414289485,\n",
       " 0.0010374737029165554,\n",
       " -0.0014813952731772967,\n",
       " 0.001098816782940451,\n",
       " 0.0026063624183585987,\n",
       " -0.0006628077593364284,\n",
       " -0.0004149353640315878,\n",
       " 0.0005622328829209544,\n",
       " 0.0009958859352414834,\n",
       " 0.0014709306374682818,\n",
       " -0.0013097517702629624,\n",
       " 0.0007619358171782609,\n",
       " -0.0006768460018674177,\n",
       " 0.0006448166542208783,\n",
       " 0.00019059141641014632,\n",
       " -0.00222514888884405,\n",
       " 0.0007960892055295515,\n",
       " -0.0003186186117712375,\n",
       " 0.0024343147423033368,\n",
       " 0.0001631049900264886,\n",
       " -2.945006738667988e-05,\n",
       " -0.0017023678900329742,\n",
       " -0.0008207609155879148,\n",
       " 0.0024274567786826406,\n",
       " 0.00018391763295494412,\n",
       " -0.0010824993108615732,\n",
       " 0.0005829329713038511,\n",
       " 0.00032135147024521526,\n",
       " -0.001674516514062141,\n",
       " -7.773890446739762e-05,\n",
       " -0.0012477487113127378,\n",
       " 0.0013260163758128524,\n",
       " -0.0003530278059079156,\n",
       " -0.00037383021660496174,\n",
       " -4.3326299586921024e-05,\n",
       " -1.588080212891474e-05,\n",
       " -0.0006560265374513513,\n",
       " -0.0005113629654655977,\n",
       " 0.002069594338173622,\n",
       " -0.000593757440484316,\n",
       " -0.0012271458291283205,\n",
       " -0.0005113902514160273,\n",
       " -0.0017777389803564497,\n",
       " -0.0013926493299929732,\n",
       " 0.0011611626216431054,\n",
       " 0.0003766227630955382,\n",
       " 0.00034189978052877323,\n",
       " -0.0011238722016769231,\n",
       " -0.002817137100722261,\n",
       " -0.0006832946762314884,\n",
       " 8.718647532225676e-05,\n",
       " -0.0011170023004529045,\n",
       " -0.0008140956589922088,\n",
       " -0.0006906318493568181,\n",
       " -0.000284321972180146,\n",
       " 0.0007071147425102425,\n",
       " 0.00012182589466579186,\n",
       " -0.001227440858467474,\n",
       " -0.0016609387219448518,\n",
       " 0.0007277551428765405,\n",
       " 0.00021110902999946224,\n",
       " -0.0011033392397404862,\n",
       " -0.00043556553216646254,\n",
       " -0.0023005506758617678,\n",
       " -2.9801373998619707e-05,\n",
       " 0.00023870118944109564,\n",
       " 0.0013055209320582822,\n",
       " -0.0008760629051324659,\n",
       " -0.0005114704038954587,\n",
       " -0.0009931940056931848,\n",
       " 0.0006518894947013104,\n",
       " -0.0010962834529790882,\n",
       " 0.001925212152551814,\n",
       " -0.0005526642306610263,\n",
       " -0.0006148207730824751,\n",
       " -0.000456016636251555,\n",
       " -0.001770976517562306,\n",
       " -0.00027024791683918914,\n",
       " 0.0011887428434814301,\n",
       " 0.0007271684949420321,\n",
       " -0.00030496919403405487,\n",
       " 0.0006518212798252015,\n",
       " 3.897779072095653e-05,\n",
       " -0.0003256283534912724,\n",
       " -0.0016540705260927463,\n",
       " -6.400080739127345e-05,\n",
       " 0.0022279943018636006,\n",
       " 0.0006103409505800045,\n",
       " -0.0027139453311221945,\n",
       " 0.00030081680293689295,\n",
       " -0.0014060412365728553,\n",
       " 0.0015877394227393898,\n",
       " -0.0014614080302497306,\n",
       " -0.0016470215608189592,\n",
       " -0.0006145240383714085,\n",
       " 0.00010812531577152062,\n",
       " 0.0014296157292976452,\n",
       " 0.0002112062361979139,\n",
       " 0.0011745937517767535,\n",
       " 0.001573919467811949,\n",
       " 0.0003420771392066563,\n",
       " 0.0009821256683306273,\n",
       " 0.0010368734120068251,\n",
       " -0.0005113646708374969,\n",
       " 0.0007757489506181187,\n",
       " -0.001936021273385144,\n",
       " -0.0006079304073956238,\n",
       " -1.5752899236207152e-05,\n",
       " -0.00038062167072144826,\n",
       " -8.459345734429524e-05,\n",
       " 0.0012023155194829938,\n",
       " 0.0006997281135997374,\n",
       " 0.0020835097939276293,\n",
       " -0.0019706555766129674,\n",
       " -0.0005250464906408486,\n",
       " 0.0006790945347210503,\n",
       " -0.00012610789402754674,\n",
       " -0.0017570678832959097,\n",
       " 0.0015325977381536876,\n",
       " -0.001791685132804699,\n",
       " -0.0005803331318382787,\n",
       " -0.0006699061803954048,\n",
       " -0.00013960041754970676,\n",
       " 0.0012436577136040877,\n",
       " -0.0001950234884993407,\n",
       " -0.0013235222694052418,\n",
       " -0.0015025097669325443,\n",
       " 0.00019724473540252974,\n",
       " 0.00045217121209688294,\n",
       " 0.0008376292227913334,\n",
       " 0.000693074794607354,\n",
       " -0.0011861123073216018,\n",
       " 0.0009615637150718614,\n",
       " 0.0006725844669684816,\n",
       " -0.0006487797490368485,\n",
       " -7.773378835169986e-05,\n",
       " 0.0011472045315915336,\n",
       " -0.0016541557946878754,\n",
       " -0.00010549307423979304,\n",
       " -0.0004769316014941877,\n",
       " 0.001533092296005456,\n",
       " 0.0015879116653015751,\n",
       " 0.0018357567746559722,\n",
       " -0.0005322728145925049,\n",
       " -8.483732552636014e-05,\n",
       " 0.0002181733436203842,\n",
       " -0.0001880529703330719,\n",
       " -0.0003115867002164707,\n",
       " 0.00015610036442215147,\n",
       " -0.0008556186225349705,\n",
       " -0.0004151536516351223,\n",
       " 0.0006312866125168654,\n",
       " -0.00036687163604200157,\n",
       " 1.1665312271355588e-05,\n",
       " -0.000738477289742856,\n",
       " 0.0004863638240019119,\n",
       " -0.002824037698640522,\n",
       " 0.002186539553196948,\n",
       " 0.0002870309554474926,\n",
       " 1.1562989957192293e-05,\n",
       " -0.0015368319871021663,\n",
       " 1.846529324736612e-05,\n",
       " 6.694342660927555e-05,\n",
       " -0.0005871109429795573,\n",
       " 0.0012160843132533738,\n",
       " 0.0021661549586160372,\n",
       " -0.000924532511634879,\n",
       " -0.0004425411664484291,\n",
       " -0.0028446218217340197,\n",
       " 0.00015625214252149022,\n",
       " -0.0005117500848874912,\n",
       " -0.00144756590548753,\n",
       " -0.00027742307963377066,\n",
       " 0.0010509883962734473,\n",
       " -0.001887700034238271,\n",
       " 0.0005140037338568354,\n",
       " 0.001388502055011509,\n",
       " -0.0012272089278887038,\n",
       " -0.0009312898583133111,\n",
       " 0.0009271766907699153,\n",
       " -0.0012615516125211723,\n",
       " -0.0007180176587982395,\n",
       " -0.0014061572018622404,\n",
       " -0.0013853564965370935,\n",
       " 0.0003487048776204815,\n",
       " -0.0009727326693766553,\n",
       " -0.0014335924670888373,\n",
       " 0.001484516956445095,\n",
       " -5.709168261348874e-05,\n",
       " -0.00038061825997764975,\n",
       " -0.0028515786969250945,\n",
       " 0.0010785686181117582,\n",
       " -0.001413187408045108,\n",
       " 0.0005967341671403725,\n",
       " 0.0014986848072406772,\n",
       " -0.0008074832689254907,\n",
       " -0.00021546436035302374,\n",
       " -0.002459225204428067,\n",
       " -0.001358016732137049,\n",
       " 0.0005141930301380271,\n",
       " -0.0007384721736271582,\n",
       " 0.0015670410397284062,\n",
       " -7.113333588830428e-05,\n",
       " 0.002262367683190325,\n",
       " ...]"
      ]
     },
     "execution_count": 32,
     "metadata": {},
     "output_type": "execute_result"
    }
   ],
   "source": [
    "p_diffs"
   ]
  },
  {
   "cell_type": "markdown",
   "metadata": {},
   "source": [
    "i. Plot a histogram of the **p_diffs**.  Does this plot look like what you expected?  Use the matching problem in the classroom to assure you fully understand what was computed here."
   ]
  },
  {
   "cell_type": "code",
   "execution_count": 33,
   "metadata": {},
   "outputs": [
    {
     "data": {
      "text/plain": [
       "(array([    7.,    78.,   439.,  1450.,  2825.,  2905.,  1635.,   579.,\n",
       "           73.,     9.]),\n",
       " array([ -4.80621363e-03,  -3.85504766e-03,  -2.90388170e-03,\n",
       "         -1.95271573e-03,  -1.00154976e-03,  -5.03837917e-05,\n",
       "          9.00782176e-04,   1.85194814e-03,   2.80311411e-03,\n",
       "          3.75428008e-03,   4.70544605e-03]),\n",
       " <a list of 10 Patch objects>)"
      ]
     },
     "execution_count": 33,
     "metadata": {},
     "output_type": "execute_result"
    },
    {
     "data": {
      "image/png": "[encoded data removed]",
      "text/plain": [
       "<matplotlib.figure.Figure at 0x117913e80>"
      ]
     },
     "metadata": {},
     "output_type": "display_data"
    }
   ],
   "source": [
    "plt.hist(p_diffs)"
   ]
  },
  {
   "cell_type": "markdown",
   "metadata": {},
   "source": [
    "#### This is a plot I would expect. Since the convert rates were the same, and the number of samples were only slightly different, I would expect the distribution to be centered around 0. This is because you're calculating the differences of the probability so they should remain close to 0 when you subtract from one another."
   ]
  },
  {
   "cell_type": "markdown",
   "metadata": {},
   "source": [
    "j. What proportion of the **p_diffs** are greater than the actual difference observed in **ab_data.csv**?"
   ]
  },
  {
   "cell_type": "code",
   "execution_count": 34,
   "metadata": {},
   "outputs": [
    {
     "data": {
      "text/plain": [
       "-0.0015782389853555567"
      ]
     },
     "execution_count": 34,
     "metadata": {},
     "output_type": "execute_result"
    }
   ],
   "source": [
    "actual = df2.query('group == \"treatment\"')['converted'].mean() - df2.query('group == \"control\"')['converted'].mean()\n",
    "actual"
   ]
  },
  {
   "cell_type": "code",
   "execution_count": 36,
   "metadata": {},
   "outputs": [
    {
     "data": {
      "text/plain": [
       "0.90529999999999999"
      ]
     },
     "execution_count": 36,
     "metadata": {},
     "output_type": "execute_result"
    }
   ],
   "source": [
    "#(actual < p_diffs).mean()\n",
    "(actual < np.array(p_diffs)).mean()"
   ]
  },
  {
   "cell_type": "markdown",
   "metadata": {},
   "source": [
    "k. In words, explain what you just computed in part **j.**.  What is this value called in scientific studies?  What does this value mean in terms of whether or not there is a difference between the new and old pages?"
   ]
  },
  {
   "cell_type": "markdown",
   "metadata": {},
   "source": [
    "**The value we computed above is called a p-value. The p-value helps determine the significance of your results. A small p-value means you would accept the null hypothesis, a large p-value means you would reject the null hypothesis. In our case, it is a large, strong p-value and it means we would accept our null hypothesis. In other words for our case, this p-value indicates that the our null hypothesis(p_old < p_new) will be accepted meaning the old pages perform better than the new pages.**"
   ]
  },
  {
   "cell_type": "markdown",
   "metadata": {},
   "source": [
    "l. We could also use a built-in to achieve similar results.  Though using the built-in might be easier to code, the above portions are a walkthrough of the ideas that are critical to correctly thinking about statistical significance. Fill in the below to calculate the number of conversions for each page, as well as the number of individuals who received each page. Let `n_old` and `n_new` refer the the number of rows associated with the old page and new pages, respectively."
   ]
  },
  {
   "cell_type": "code",
   "execution_count": 37,
   "metadata": {},
   "outputs": [
    {
     "name": "stderr",
     "output_type": "stream",
     "text": [
      "/Users/asenden/anaconda/lib/python3.6/site-packages/statsmodels/compat/pandas.py:56: FutureWarning: The pandas.core.datetools module is deprecated and will be removed in a future version. Please use the pandas.tseries module instead.\n",
      "  from pandas.core import datetools\n"
     ]
    }
   ],
   "source": [
    "import statsmodels.api as sm\n",
    "\n",
    "convert_old = sum(df2.query(\"group == 'control'\")['converted'])\n",
    "convert_new = sum(df2.query(\"group == 'treatment'\")['converted'])\n",
    "n_old = len(df2.query(\"group == 'control'\"))\n",
    "n_new = len(df2.query(\"group == 'treatment'\"))"
   ]
  },
  {
   "cell_type": "markdown",
   "metadata": {},
   "source": [
    "m. Now use `stats.proportions_ztest` to compute your test statistic and p-value.  [Here](http://knowledgetack.com/python/statsmodels/proportions_ztest/) is a helpful link on using the built in."
   ]
  },
  {
   "cell_type": "code",
   "execution_count": 40,
   "metadata": {},
   "outputs": [
    {
     "name": "stdout",
     "output_type": "stream",
     "text": [
      "-1.31092419842 0.905058312759\n"
     ]
    }
   ],
   "source": [
    "z_score, p_value = sm.stats.proportions_ztest([convert_new, convert_old], [n_new, n_old], alternative='larger')\n",
    "print(z_score, p_value)"
   ]
  },
  {
   "cell_type": "markdown",
   "metadata": {},
   "source": [
    "n. What do the z-score and p-value you computed in the previous question mean for the conversion rates of the old and new pages?  Do they agree with the findings in parts **j.** and **k.**?"
   ]
  },
  {
   "cell_type": "markdown",
   "metadata": {},
   "source": [
    "**The z-score and p-value computed above confirm that we can reject the null hypothesis. The z-score tells us the number of standard deviations away from the mean a data point is and it needs to lie within the critical value of -1.95 and 1.95 since our error rate was 5%. The p-value also remains high meaning there is weak evidence against the null hypothesis. Therefore, it agrees with the previous findings- the old pages perform better than the new pages.**"
   ]
  },
  {
   "cell_type": "markdown",
   "metadata": {},
   "source": [
    "<a id='regression'></a>\n",
    "### Part III - A regression approach\n",
    "\n",
    "`1.` In this final part, you will see that the result you acheived in the previous A/B test can also be acheived by performing regression.<br><br>\n",
    "\n",
    "a. Since each row is either a conversion or no conversion, what type of regression should you be performing in this case?"
   ]
  },
  {
   "cell_type": "markdown",
   "metadata": {},
   "source": [
    "**Logistic Regression**"
   ]
  },
  {
   "cell_type": "markdown",
   "metadata": {},
   "source": [
    "b. The goal is to use **statsmodels** to fit the regression model you specified in part **a.** to see if there is a significant difference in conversion based on which page a customer receives.  However, you first need to create a colun for the intercept, and create a dummy variable column for which page each user received.  Add an **intercept** column, as well as an **ab_page** column, which is 1 when an individual receives the **treatment** and 0 if **control**."
   ]
  },
  {
   "cell_type": "code",
   "execution_count": 44,
   "metadata": {},
   "outputs": [],
   "source": [
    "df2['intercept'] = 1"
   ]
  },
  {
   "cell_type": "code",
   "execution_count": 66,
   "metadata": {
    "scrolled": true
   },
   "outputs": [],
   "source": [
    "df2[['control','treatment']] = pd.get_dummies(df2['group'])"
   ]
  },
  {
   "cell_type": "code",
   "execution_count": 67,
   "metadata": {},
   "outputs": [
    {
     "data": {
      "text/html": [
       "<div>\n",
       "<style>\n",
       "    .dataframe thead tr:only-child th {\n",
       "        text-align: right;\n",
       "    }\n",
       "\n",
       "    .dataframe thead th {\n",
       "        text-align: left;\n",
       "    }\n",
       "\n",
       "    .dataframe tbody tr th {\n",
       "        vertical-align: top;\n",
       "    }\n",
       "</style>\n",
       "<table border=\"1\" class=\"dataframe\">\n",
       "  <thead>\n",
       "    <tr style=\"text-align: right;\">\n",
       "      <th></th>\n",
       "      <th>user_id</th>\n",
       "      <th>timestamp</th>\n",
       "      <th>group</th>\n",
       "      <th>landing_page</th>\n",
       "      <th>converted</th>\n",
       "      <th>intercept</th>\n",
       "      <th>new_page</th>\n",
       "      <th>old_page</th>\n",
       "      <th>ab_page</th>\n",
       "      <th>control</th>\n",
       "      <th>treatment</th>\n",
       "    </tr>\n",
       "  </thead>\n",
       "  <tbody>\n",
       "    <tr>\n",
       "      <th>0</th>\n",
       "      <td>851104</td>\n",
       "      <td>2017-01-21 22:11:48.556739</td>\n",
       "      <td>control</td>\n",
       "      <td>old_page</td>\n",
       "      <td>0</td>\n",
       "      <td>1</td>\n",
       "      <td>0</td>\n",
       "      <td>1</td>\n",
       "      <td>0</td>\n",
       "      <td>1</td>\n",
       "      <td>0</td>\n",
       "    </tr>\n",
       "    <tr>\n",
       "      <th>1</th>\n",
       "      <td>804228</td>\n",
       "      <td>2017-01-12 08:01:45.159739</td>\n",
       "      <td>control</td>\n",
       "      <td>old_page</td>\n",
       "      <td>0</td>\n",
       "      <td>1</td>\n",
       "      <td>0</td>\n",
       "      <td>1</td>\n",
       "      <td>0</td>\n",
       "      <td>1</td>\n",
       "      <td>0</td>\n",
       "    </tr>\n",
       "    <tr>\n",
       "      <th>2</th>\n",
       "      <td>661590</td>\n",
       "      <td>2017-01-11 16:55:06.154213</td>\n",
       "      <td>treatment</td>\n",
       "      <td>new_page</td>\n",
       "      <td>0</td>\n",
       "      <td>1</td>\n",
       "      <td>1</td>\n",
       "      <td>0</td>\n",
       "      <td>1</td>\n",
       "      <td>0</td>\n",
       "      <td>1</td>\n",
       "    </tr>\n",
       "    <tr>\n",
       "      <th>3</th>\n",
       "      <td>853541</td>\n",
       "      <td>2017-01-08 18:28:03.143765</td>\n",
       "      <td>treatment</td>\n",
       "      <td>new_page</td>\n",
       "      <td>0</td>\n",
       "      <td>1</td>\n",
       "      <td>1</td>\n",
       "      <td>0</td>\n",
       "      <td>1</td>\n",
       "      <td>0</td>\n",
       "      <td>1</td>\n",
       "    </tr>\n",
       "    <tr>\n",
       "      <th>4</th>\n",
       "      <td>864975</td>\n",
       "      <td>2017-01-21 01:52:26.210827</td>\n",
       "      <td>control</td>\n",
       "      <td>old_page</td>\n",
       "      <td>1</td>\n",
       "      <td>1</td>\n",
       "      <td>0</td>\n",
       "      <td>1</td>\n",
       "      <td>0</td>\n",
       "      <td>1</td>\n",
       "      <td>0</td>\n",
       "    </tr>\n",
       "  </tbody>\n",
       "</table>\n",
       "</div>"
      ],
      "text/plain": [
       "   user_id                   timestamp      group landing_page  converted  \\\n",
       "0   851104  2017-01-21 22:11:48.556739    control     old_page          0   \n",
       "1   804228  2017-01-12 08:01:45.159739    control     old_page          0   \n",
       "2   661590  2017-01-11 16:55:06.154213  treatment     new_page          0   \n",
       "3   853541  2017-01-08 18:28:03.143765  treatment     new_page          0   \n",
       "4   864975  2017-01-21 01:52:26.210827    control     old_page          1   \n",
       "\n",
       "   intercept  new_page  old_page  ab_page  control  treatment  \n",
       "0          1         0         1        0        1          0  \n",
       "1          1         0         1        0        1          0  \n",
       "2          1         1         0        1        0          1  \n",
       "3          1         1         0        1        0          1  \n",
       "4          1         0         1        0        1          0  "
      ]
     },
     "execution_count": 67,
     "metadata": {},
     "output_type": "execute_result"
    }
   ],
   "source": [
    "df2['ab_page'] = pd.get_dummies(df2['group'])['treatment']\n",
    "df2.head()"
   ]
  },
  {
   "cell_type": "markdown",
   "metadata": {},
   "source": [
    "c. Use **statsmodels** to import your regression model.  Instantiate the model, and fit the model using the two columns you created in part **b.** to predict whether or not an individual converts."
   ]
  },
  {
   "cell_type": "code",
   "execution_count": 48,
   "metadata": {
    "collapsed": true
   },
   "outputs": [],
   "source": [
    "logit = sm.Logit(df2['converted'], df2[['intercept', 'ab_page']])"
   ]
  },
  {
   "cell_type": "code",
   "execution_count": 49,
   "metadata": {},
   "outputs": [
    {
     "name": "stdout",
     "output_type": "stream",
     "text": [
      "Optimization terminated successfully.\n",
      "         Current function value: 0.366118\n",
      "         Iterations 6\n"
     ]
    }
   ],
   "source": [
    "results = logit.fit()"
   ]
  },
  {
   "cell_type": "markdown",
   "metadata": {},
   "source": [
    "d. Provide the summary of your model below, and use it as necessary to answer the following questions."
   ]
  },
  {
   "cell_type": "code",
   "execution_count": 50,
   "metadata": {},
   "outputs": [
    {
     "data": {
      "text/html": [
       "<table class=\"simpletable\">\n",
       "<caption>Logit Regression Results</caption>\n",
       "<tr>\n",
       "  <th>Dep. Variable:</th>     <td>converted</td>    <th>  No. Observations:  </th>   <td>290584</td>   \n",
       "</tr>\n",
       "<tr>\n",
       "  <th>Model:</th>               <td>Logit</td>      <th>  Df Residuals:      </th>   <td>290582</td>   \n",
       "</tr>\n",
       "<tr>\n",
       "  <th>Method:</th>               <td>MLE</td>       <th>  Df Model:          </th>   <td>     1</td>   \n",
       "</tr>\n",
       "<tr>\n",
       "  <th>Date:</th>          <td>Wed, 16 May 2018</td> <th>  Pseudo R-squ.:     </th>  <td>8.077e-06</td> \n",
       "</tr>\n",
       "<tr>\n",
       "  <th>Time:</th>              <td>11:36:20</td>     <th>  Log-Likelihood:    </th> <td>-1.0639e+05</td>\n",
       "</tr>\n",
       "<tr>\n",
       "  <th>converged:</th>           <td>True</td>       <th>  LL-Null:           </th> <td>-1.0639e+05</td>\n",
       "</tr>\n",
       "<tr>\n",
       "  <th> </th>                      <td> </td>        <th>  LLR p-value:       </th>   <td>0.1899</td>   \n",
       "</tr>\n",
       "</table>\n",
       "<table class=\"simpletable\">\n",
       "<tr>\n",
       "      <td></td>         <th>coef</th>     <th>std err</th>      <th>z</th>      <th>P>|z|</th>  <th>[0.025</th>    <th>0.975]</th>  \n",
       "</tr>\n",
       "<tr>\n",
       "  <th>intercept</th> <td>   -1.9888</td> <td>    0.008</td> <td> -246.669</td> <td> 0.000</td> <td>   -2.005</td> <td>   -1.973</td>\n",
       "</tr>\n",
       "<tr>\n",
       "  <th>ab_page</th>   <td>   -0.0150</td> <td>    0.011</td> <td>   -1.311</td> <td> 0.190</td> <td>   -0.037</td> <td>    0.007</td>\n",
       "</tr>\n",
       "</table>"
      ],
      "text/plain": [
       "<class 'statsmodels.iolib.summary.Summary'>\n",
       "\"\"\"\n",
       "                           Logit Regression Results                           \n",
       "==============================================================================\n",
       "Dep. Variable:              converted   No. Observations:               290584\n",
       "Model:                          Logit   Df Residuals:                   290582\n",
       "Method:                           MLE   Df Model:                            1\n",
       "Date:                Wed, 16 May 2018   Pseudo R-squ.:               8.077e-06\n",
       "Time:                        11:36:20   Log-Likelihood:            -1.0639e+05\n",
       "converged:                       True   LL-Null:                   -1.0639e+05\n",
       "                                        LLR p-value:                    0.1899\n",
       "==============================================================================\n",
       "                 coef    std err          z      P>|z|      [0.025      0.975]\n",
       "------------------------------------------------------------------------------\n",
       "intercept     -1.9888      0.008   -246.669      0.000      -2.005      -1.973\n",
       "ab_page       -0.0150      0.011     -1.311      0.190      -0.037       0.007\n",
       "==============================================================================\n",
       "\"\"\""
      ]
     },
     "execution_count": 50,
     "metadata": {},
     "output_type": "execute_result"
    }
   ],
   "source": [
    "results.summary()"
   ]
  },
  {
   "cell_type": "markdown",
   "metadata": {},
   "source": [
    "e. What is the p-value associated with **ab_page**? Why does it differ from the value you found in the **Part II**?<br><br>  **Hint**: What are the null and alternative hypotheses associated with your regression model, and how do they compare to the null and alternative hypotheses in the **Part II**?"
   ]
  },
  {
   "cell_type": "markdown",
   "metadata": {},
   "source": [
    "**Our p-value associated with the ab_page is 0.190. In our regression model, we made the hypotheses a 2 sided test. This means the null hypothesis was p_new NOT EQUAL to p_old. In part II, the hypotheses were a one-sided test. This is why we are seeing a difference in the p-values.**"
   ]
  },
  {
   "cell_type": "markdown",
   "metadata": {},
   "source": [
    "f. Now, you are considering other things that might influence whether or not an individual converts.  Discuss why it is a good idea to consider other factors to add into your regression model.  Are there any disadvantages to adding additional terms into your regression model?"
   ]
  },
  {
   "cell_type": "code",
   "execution_count": 51,
   "metadata": {},
   "outputs": [
    {
     "data": {
      "text/html": [
       "<div>\n",
       "<style>\n",
       "    .dataframe thead tr:only-child th {\n",
       "        text-align: right;\n",
       "    }\n",
       "\n",
       "    .dataframe thead th {\n",
       "        text-align: left;\n",
       "    }\n",
       "\n",
       "    .dataframe tbody tr th {\n",
       "        vertical-align: top;\n",
       "    }\n",
       "</style>\n",
       "<table border=\"1\" class=\"dataframe\">\n",
       "  <thead>\n",
       "    <tr style=\"text-align: right;\">\n",
       "      <th></th>\n",
       "      <th>user_id</th>\n",
       "      <th>timestamp</th>\n",
       "      <th>group</th>\n",
       "      <th>landing_page</th>\n",
       "      <th>converted</th>\n",
       "      <th>intercept</th>\n",
       "      <th>new_page</th>\n",
       "      <th>old_page</th>\n",
       "      <th>ab_page</th>\n",
       "    </tr>\n",
       "  </thead>\n",
       "  <tbody>\n",
       "    <tr>\n",
       "      <th>0</th>\n",
       "      <td>851104</td>\n",
       "      <td>2017-01-21 22:11:48.556739</td>\n",
       "      <td>control</td>\n",
       "      <td>old_page</td>\n",
       "      <td>0</td>\n",
       "      <td>1</td>\n",
       "      <td>0</td>\n",
       "      <td>1</td>\n",
       "      <td>0</td>\n",
       "    </tr>\n",
       "    <tr>\n",
       "      <th>1</th>\n",
       "      <td>804228</td>\n",
       "      <td>2017-01-12 08:01:45.159739</td>\n",
       "      <td>control</td>\n",
       "      <td>old_page</td>\n",
       "      <td>0</td>\n",
       "      <td>1</td>\n",
       "      <td>0</td>\n",
       "      <td>1</td>\n",
       "      <td>0</td>\n",
       "    </tr>\n",
       "    <tr>\n",
       "      <th>2</th>\n",
       "      <td>661590</td>\n",
       "      <td>2017-01-11 16:55:06.154213</td>\n",
       "      <td>treatment</td>\n",
       "      <td>new_page</td>\n",
       "      <td>0</td>\n",
       "      <td>1</td>\n",
       "      <td>1</td>\n",
       "      <td>0</td>\n",
       "      <td>1</td>\n",
       "    </tr>\n",
       "    <tr>\n",
       "      <th>3</th>\n",
       "      <td>853541</td>\n",
       "      <td>2017-01-08 18:28:03.143765</td>\n",
       "      <td>treatment</td>\n",
       "      <td>new_page</td>\n",
       "      <td>0</td>\n",
       "      <td>1</td>\n",
       "      <td>1</td>\n",
       "      <td>0</td>\n",
       "      <td>1</td>\n",
       "    </tr>\n",
       "    <tr>\n",
       "      <th>4</th>\n",
       "      <td>864975</td>\n",
       "      <td>2017-01-21 01:52:26.210827</td>\n",
       "      <td>control</td>\n",
       "      <td>old_page</td>\n",
       "      <td>1</td>\n",
       "      <td>1</td>\n",
       "      <td>0</td>\n",
       "      <td>1</td>\n",
       "      <td>0</td>\n",
       "    </tr>\n",
       "  </tbody>\n",
       "</table>\n",
       "</div>"
      ],
      "text/plain": [
       "   user_id                   timestamp      group landing_page  converted  \\\n",
       "0   851104  2017-01-21 22:11:48.556739    control     old_page          0   \n",
       "1   804228  2017-01-12 08:01:45.159739    control     old_page          0   \n",
       "2   661590  2017-01-11 16:55:06.154213  treatment     new_page          0   \n",
       "3   853541  2017-01-08 18:28:03.143765  treatment     new_page          0   \n",
       "4   864975  2017-01-21 01:52:26.210827    control     old_page          1   \n",
       "\n",
       "   intercept  new_page  old_page  ab_page  \n",
       "0          1         0         1        0  \n",
       "1          1         0         1        0  \n",
       "2          1         1         0        1  \n",
       "3          1         1         0        1  \n",
       "4          1         0         1        0  "
      ]
     },
     "execution_count": 51,
     "metadata": {},
     "output_type": "execute_result"
    }
   ],
   "source": [
    "df2.head()"
   ]
  },
  {
   "cell_type": "markdown",
   "metadata": {},
   "source": [
    "**We could also consider the timestamp as an effect to whether or not the user will convert. Based on what time the user is browsing at, this might make them more apt to convert than other times of the day. It might be a good idea to consider other outside factors for determining the rate of conversion because otherwise you might miss a more determining factor that has an effect on this rate. This also might bring you some disadvantages when dealing with and trying to compute the conversion rates though as it will make having to model it much more complex and harder to interpret the results.**"
   ]
  },
  {
   "cell_type": "markdown",
   "metadata": {},
   "source": [
    "g. Now along with testing if the conversion rate changes for different pages, also add an effect based on which country a user lives. You will need to read in the **countries.csv** dataset and merge together your datasets on the approporiate rows.  [Here](https://pandas.pydata.org/pandas-docs/stable/generated/pandas.DataFrame.join.html) are the docs for joining tables. \n",
    "\n",
    "Does it appear that country had an impact on conversion?  Don't forget to create dummy variables for these country columns - **Hint: You will need two columns for the three dummy varaibles.** Provide the statistical output as well as a written response to answer this question."
   ]
  },
  {
   "cell_type": "code",
   "execution_count": 52,
   "metadata": {},
   "outputs": [
    {
     "data": {
      "text/html": [
       "<div>\n",
       "<style>\n",
       "    .dataframe thead tr:only-child th {\n",
       "        text-align: right;\n",
       "    }\n",
       "\n",
       "    .dataframe thead th {\n",
       "        text-align: left;\n",
       "    }\n",
       "\n",
       "    .dataframe tbody tr th {\n",
       "        vertical-align: top;\n",
       "    }\n",
       "</style>\n",
       "<table border=\"1\" class=\"dataframe\">\n",
       "  <thead>\n",
       "    <tr style=\"text-align: right;\">\n",
       "      <th></th>\n",
       "      <th>user_id</th>\n",
       "      <th>country</th>\n",
       "    </tr>\n",
       "  </thead>\n",
       "  <tbody>\n",
       "    <tr>\n",
       "      <th>0</th>\n",
       "      <td>834778</td>\n",
       "      <td>UK</td>\n",
       "    </tr>\n",
       "    <tr>\n",
       "      <th>1</th>\n",
       "      <td>928468</td>\n",
       "      <td>US</td>\n",
       "    </tr>\n",
       "    <tr>\n",
       "      <th>2</th>\n",
       "      <td>822059</td>\n",
       "      <td>UK</td>\n",
       "    </tr>\n",
       "    <tr>\n",
       "      <th>3</th>\n",
       "      <td>711597</td>\n",
       "      <td>UK</td>\n",
       "    </tr>\n",
       "    <tr>\n",
       "      <th>4</th>\n",
       "      <td>710616</td>\n",
       "      <td>UK</td>\n",
       "    </tr>\n",
       "  </tbody>\n",
       "</table>\n",
       "</div>"
      ],
      "text/plain": [
       "   user_id country\n",
       "0   834778      UK\n",
       "1   928468      US\n",
       "2   822059      UK\n",
       "3   711597      UK\n",
       "4   710616      UK"
      ]
     },
     "execution_count": 52,
     "metadata": {},
     "output_type": "execute_result"
    }
   ],
   "source": [
    "countries = pd.read_csv('countries.csv')\n",
    "countries.head()"
   ]
  },
  {
   "cell_type": "code",
   "execution_count": 53,
   "metadata": {},
   "outputs": [
    {
     "data": {
      "text/html": [
       "<div>\n",
       "<style>\n",
       "    .dataframe thead tr:only-child th {\n",
       "        text-align: right;\n",
       "    }\n",
       "\n",
       "    .dataframe thead th {\n",
       "        text-align: left;\n",
       "    }\n",
       "\n",
       "    .dataframe tbody tr th {\n",
       "        vertical-align: top;\n",
       "    }\n",
       "</style>\n",
       "<table border=\"1\" class=\"dataframe\">\n",
       "  <thead>\n",
       "    <tr style=\"text-align: right;\">\n",
       "      <th></th>\n",
       "      <th>country</th>\n",
       "      <th>timestamp</th>\n",
       "      <th>group</th>\n",
       "      <th>landing_page</th>\n",
       "      <th>converted</th>\n",
       "      <th>intercept</th>\n",
       "      <th>new_page</th>\n",
       "      <th>old_page</th>\n",
       "      <th>ab_page</th>\n",
       "    </tr>\n",
       "    <tr>\n",
       "      <th>user_id</th>\n",
       "      <th></th>\n",
       "      <th></th>\n",
       "      <th></th>\n",
       "      <th></th>\n",
       "      <th></th>\n",
       "      <th></th>\n",
       "      <th></th>\n",
       "      <th></th>\n",
       "      <th></th>\n",
       "    </tr>\n",
       "  </thead>\n",
       "  <tbody>\n",
       "    <tr>\n",
       "      <th>630000</th>\n",
       "      <td>US</td>\n",
       "      <td>2017-01-19 06:26:06.548941</td>\n",
       "      <td>treatment</td>\n",
       "      <td>new_page</td>\n",
       "      <td>0</td>\n",
       "      <td>1</td>\n",
       "      <td>1</td>\n",
       "      <td>0</td>\n",
       "      <td>1</td>\n",
       "    </tr>\n",
       "    <tr>\n",
       "      <th>630001</th>\n",
       "      <td>US</td>\n",
       "      <td>2017-01-16 03:16:42.560309</td>\n",
       "      <td>treatment</td>\n",
       "      <td>new_page</td>\n",
       "      <td>1</td>\n",
       "      <td>1</td>\n",
       "      <td>1</td>\n",
       "      <td>0</td>\n",
       "      <td>1</td>\n",
       "    </tr>\n",
       "    <tr>\n",
       "      <th>630002</th>\n",
       "      <td>US</td>\n",
       "      <td>2017-01-19 19:20:56.438330</td>\n",
       "      <td>control</td>\n",
       "      <td>old_page</td>\n",
       "      <td>0</td>\n",
       "      <td>1</td>\n",
       "      <td>0</td>\n",
       "      <td>1</td>\n",
       "      <td>0</td>\n",
       "    </tr>\n",
       "    <tr>\n",
       "      <th>630003</th>\n",
       "      <td>US</td>\n",
       "      <td>2017-01-12 10:09:31.510471</td>\n",
       "      <td>treatment</td>\n",
       "      <td>new_page</td>\n",
       "      <td>0</td>\n",
       "      <td>1</td>\n",
       "      <td>1</td>\n",
       "      <td>0</td>\n",
       "      <td>1</td>\n",
       "    </tr>\n",
       "    <tr>\n",
       "      <th>630004</th>\n",
       "      <td>US</td>\n",
       "      <td>2017-01-18 20:23:58.824994</td>\n",
       "      <td>treatment</td>\n",
       "      <td>new_page</td>\n",
       "      <td>0</td>\n",
       "      <td>1</td>\n",
       "      <td>1</td>\n",
       "      <td>0</td>\n",
       "      <td>1</td>\n",
       "    </tr>\n",
       "  </tbody>\n",
       "</table>\n",
       "</div>"
      ],
      "text/plain": [
       "        country                   timestamp      group landing_page  \\\n",
       "user_id                                                               \n",
       "630000       US  2017-01-19 06:26:06.548941  treatment     new_page   \n",
       "630001       US  2017-01-16 03:16:42.560309  treatment     new_page   \n",
       "630002       US  2017-01-19 19:20:56.438330    control     old_page   \n",
       "630003       US  2017-01-12 10:09:31.510471  treatment     new_page   \n",
       "630004       US  2017-01-18 20:23:58.824994  treatment     new_page   \n",
       "\n",
       "         converted  intercept  new_page  old_page  ab_page  \n",
       "user_id                                                     \n",
       "630000           0          1         1         0        1  \n",
       "630001           1          1         1         0        1  \n",
       "630002           0          1         0         1        0  \n",
       "630003           0          1         1         0        1  \n",
       "630004           0          1         1         0        1  "
      ]
     },
     "execution_count": 53,
     "metadata": {},
     "output_type": "execute_result"
    }
   ],
   "source": [
    "merged = countries.set_index('user_id').join(df2.set_index('user_id'), how='inner')\n",
    "merged.head()"
   ]
  },
  {
   "cell_type": "code",
   "execution_count": 55,
   "metadata": {},
   "outputs": [
    {
     "data": {
      "text/plain": [
       "US    203619\n",
       "UK     72466\n",
       "CA     14499\n",
       "Name: country, dtype: int64"
      ]
     },
     "execution_count": 55,
     "metadata": {},
     "output_type": "execute_result"
    }
   ],
   "source": [
    "merged['country'].value_counts()\n",
    "#see what countries are in the df"
   ]
  },
  {
   "cell_type": "code",
   "execution_count": 58,
   "metadata": {},
   "outputs": [],
   "source": [
    "#create dummy variables\n",
    "merged[['US', 'UK']] = pd.get_dummies(merged['country'])[['US', 'UK']]\n",
    "merged['intercept'] = 1"
   ]
  },
  {
   "cell_type": "code",
   "execution_count": 65,
   "metadata": {},
   "outputs": [
    {
     "data": {
      "text/plain": [
       "country  converted\n",
       "CA       0             12827\n",
       "         1              1672\n",
       "UK       0             63727\n",
       "         1              8739\n",
       "US       0            179277\n",
       "         1             24342\n",
       "Name: timestamp, dtype: int64"
      ]
     },
     "execution_count": 65,
     "metadata": {},
     "output_type": "execute_result"
    }
   ],
   "source": [
    "country_grp = merged.groupby(['country', 'converted']).count()['timestamp']\n",
    "country_grp"
   ]
  },
  {
   "cell_type": "markdown",
   "metadata": {},
   "source": [
    "**It appears that the country the user is from does not have an impact on the conversion rate.**"
   ]
  },
  {
   "cell_type": "markdown",
   "metadata": {},
   "source": [
    "h. Though you have now looked at the individual factors of country and page on conversion, we would now like to look at an interaction between page and country to see if there significant effects on conversion.  Create the necessary additional columns, and fit the new model.  \n",
    "\n",
    "Provide the summary results, and your conclusions based on the results."
   ]
  },
  {
   "cell_type": "code",
   "execution_count": 59,
   "metadata": {
    "collapsed": true
   },
   "outputs": [],
   "source": [
    "new_logit = sm.Logit(merged['converted'], merged[['intercept', 'US', 'UK']])"
   ]
  },
  {
   "cell_type": "code",
   "execution_count": 60,
   "metadata": {},
   "outputs": [
    {
     "name": "stdout",
     "output_type": "stream",
     "text": [
      "Optimization terminated successfully.\n",
      "         Current function value: 0.366116\n",
      "         Iterations 6\n"
     ]
    }
   ],
   "source": [
    "new_results = new_logit.fit()"
   ]
  },
  {
   "cell_type": "code",
   "execution_count": 61,
   "metadata": {},
   "outputs": [
    {
     "data": {
      "text/html": [
       "<table class=\"simpletable\">\n",
       "<caption>Logit Regression Results</caption>\n",
       "<tr>\n",
       "  <th>Dep. Variable:</th>     <td>converted</td>    <th>  No. Observations:  </th>   <td>290584</td>   \n",
       "</tr>\n",
       "<tr>\n",
       "  <th>Model:</th>               <td>Logit</td>      <th>  Df Residuals:      </th>   <td>290581</td>   \n",
       "</tr>\n",
       "<tr>\n",
       "  <th>Method:</th>               <td>MLE</td>       <th>  Df Model:          </th>   <td>     2</td>   \n",
       "</tr>\n",
       "<tr>\n",
       "  <th>Date:</th>          <td>Wed, 16 May 2018</td> <th>  Pseudo R-squ.:     </th>  <td>1.521e-05</td> \n",
       "</tr>\n",
       "<tr>\n",
       "  <th>Time:</th>              <td>12:16:38</td>     <th>  Log-Likelihood:    </th> <td>-1.0639e+05</td>\n",
       "</tr>\n",
       "<tr>\n",
       "  <th>converged:</th>           <td>True</td>       <th>  LL-Null:           </th> <td>-1.0639e+05</td>\n",
       "</tr>\n",
       "<tr>\n",
       "  <th> </th>                      <td> </td>        <th>  LLR p-value:       </th>   <td>0.1984</td>   \n",
       "</tr>\n",
       "</table>\n",
       "<table class=\"simpletable\">\n",
       "<tr>\n",
       "      <td></td>         <th>coef</th>     <th>std err</th>      <th>z</th>      <th>P>|z|</th>  <th>[0.025</th>    <th>0.975]</th>  \n",
       "</tr>\n",
       "<tr>\n",
       "  <th>intercept</th> <td>   -2.0375</td> <td>    0.026</td> <td>  -78.364</td> <td> 0.000</td> <td>   -2.088</td> <td>   -1.987</td>\n",
       "</tr>\n",
       "<tr>\n",
       "  <th>US</th>        <td>    0.0408</td> <td>    0.027</td> <td>    1.518</td> <td> 0.129</td> <td>   -0.012</td> <td>    0.093</td>\n",
       "</tr>\n",
       "<tr>\n",
       "  <th>UK</th>        <td>    0.0507</td> <td>    0.028</td> <td>    1.786</td> <td> 0.074</td> <td>   -0.005</td> <td>    0.106</td>\n",
       "</tr>\n",
       "</table>"
      ],
      "text/plain": [
       "<class 'statsmodels.iolib.summary.Summary'>\n",
       "\"\"\"\n",
       "                           Logit Regression Results                           \n",
       "==============================================================================\n",
       "Dep. Variable:              converted   No. Observations:               290584\n",
       "Model:                          Logit   Df Residuals:                   290581\n",
       "Method:                           MLE   Df Model:                            2\n",
       "Date:                Wed, 16 May 2018   Pseudo R-squ.:               1.521e-05\n",
       "Time:                        12:16:38   Log-Likelihood:            -1.0639e+05\n",
       "converged:                       True   LL-Null:                   -1.0639e+05\n",
       "                                        LLR p-value:                    0.1984\n",
       "==============================================================================\n",
       "                 coef    std err          z      P>|z|      [0.025      0.975]\n",
       "------------------------------------------------------------------------------\n",
       "intercept     -2.0375      0.026    -78.364      0.000      -2.088      -1.987\n",
       "US             0.0408      0.027      1.518      0.129      -0.012       0.093\n",
       "UK             0.0507      0.028      1.786      0.074      -0.005       0.106\n",
       "==============================================================================\n",
       "\"\"\""
      ]
     },
     "execution_count": 61,
     "metadata": {},
     "output_type": "execute_result"
    }
   ],
   "source": [
    "new_results.summary()"
   ]
  },
  {
   "cell_type": "markdown",
   "metadata": {},
   "source": [
    "<a id='conclusions'></a>\n",
    "## Finishing Up\n",
    "\n",
    "> Congratulations!  You have reached the end of the A/B Test Results project!  This is the final project in Term 1.  You should be very proud of all you have accomplished!\n",
    "\n",
    "> **Tip**: Once you are satisfied with your work here, check over your report to make sure that it is satisfies all the areas of the rubric (found on the project submission page at the end of the lesson). You should also probably remove all of the \"Tips\" like this one so that the presentation is as polished as possible.\n",
    "\n",
    "\n",
    "## Directions to Submit\n",
    "\n",
    "> Before you submit your project, you need to create a .html or .pdf version of this notebook in the workspace here. To do that, run the code cell below. If it worked correctly, you should get a return code of 0, and you should see the generated .html file in the workspace directory (click on the orange Jupyter icon in the upper left).\n",
    "\n",
    "> Alternatively, you can download this report as .html via the **File** > **Download as** submenu, and then manually upload it into the workspace directory by clicking on the orange Jupyter icon in the upper left, then using the Upload button.\n",
    "\n",
    "> Once you've done this, you can submit your project by clicking on the \"Submit Project\" button in the lower right here. This will create and submit a zip file with this .ipynb doc and the .html or .pdf version you created. Congratulations!"
   ]
  },
  {
   "cell_type": "code",
   "execution_count": 68,
   "metadata": {},
   "outputs": [
    {
     "data": {
      "text/plain": [
       "0"
      ]
     },
     "execution_count": 68,
     "metadata": {},
     "output_type": "execute_result"
    }
   ],
   "source": [
    "from subprocess import call\n",
    "call(['python', '-m', 'nbconvert', 'Analyze_ab_test_results_notebook.ipynb'])"
   ]
  }
 ],
 "metadata": {
  "kernelspec": {
   "display_name": "Python 3",
   "language": "python",
   "name": "python3"
  },
  "language_info": {
   "codemirror_mode": {
    "name": "ipython",
    "version": 3
   },
   "file_extension": ".py",
   "mimetype": "text/x-python",
   "name": "python",
   "nbconvert_exporter": "python",
   "pygments_lexer": "ipython3",
   "version": "3.6.4"
  }
 },
 "nbformat": 4,
 "nbformat_minor": 2
}
